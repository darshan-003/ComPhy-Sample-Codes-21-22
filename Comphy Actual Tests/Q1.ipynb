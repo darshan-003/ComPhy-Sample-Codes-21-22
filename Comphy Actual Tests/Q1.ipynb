{
 "cells": [
  {
   "cell_type": "code",
   "execution_count": 2,
   "metadata": {},
   "outputs": [],
   "source": [
    "import numpy as np\n",
    "import matplotlib.pyplot as plt"
   ]
  },
  {
   "cell_type": "code",
   "execution_count": 86,
   "metadata": {},
   "outputs": [],
   "source": [
    "def H_matrix(λ):\n",
    "    H =np.array( [[1/2, 3*λ/4, 3*λ/(np.sqrt(2)), 0], [0, 3/2 + 15*λ/4 , 0 , 3* np.sqrt(3/2)*λ], [3*λ/(np.sqrt(2)),0,5/2 + 27*λ/4 ,0], [0,3* np.sqrt(3/2)*λ,0, 7/2 + 15*λ/4]])\n",
    "\n",
    "    return H\n"
   ]
  },
  {
   "cell_type": "code",
   "execution_count": 87,
   "metadata": {},
   "outputs": [],
   "source": [
    "def norms(A):\n",
    "    n = A.shape[0]\n",
    "    m = A.shape[1]\n",
    "    norm_ = 0\n",
    "    for i in range(n):\n",
    "        for j in range(m):\n",
    "            norm_ += A[i][j]*A[i][j]\n",
    "\n",
    "    return np.sqrt(norm_)\n"
   ]
  },
  {
   "cell_type": "code",
   "execution_count": 88,
   "metadata": {},
   "outputs": [
    {
     "data": {
      "text/plain": [
       "23.857566675696937"
      ]
     },
     "execution_count": 88,
     "metadata": {},
     "output_type": "execute_result"
    }
   ],
   "source": [
    "H_inv = np.linalg.inv(H_matrix(0.4))\n",
    "\n",
    "condition_no = norms(H_matrix(0.4)) * norms(H_inv)\n",
    "condition_no\n",
    "\n"
   ]
  },
  {
   "cell_type": "code",
   "execution_count": 90,
   "metadata": {},
   "outputs": [
    {
     "data": {
      "text/plain": [
       "23.857566675696933"
      ]
     },
     "execution_count": 90,
     "metadata": {},
     "output_type": "execute_result"
    }
   ],
   "source": [
    "np.linalg.cond(H_matrix(0.4),'fro')"
   ]
  },
  {
   "cell_type": "code",
   "execution_count": 77,
   "metadata": {},
   "outputs": [],
   "source": [
    "def norm(B):\n",
    "    norm_ = 0\n",
    "    for i in range(B.shape[0]):\n",
    "        norm_ = norm_ + B[i]*B[i]\n",
    "    return np.sqrt(norm_)\n",
    "\n",
    "\n",
    "def QR(AB):\n",
    "    Q = np.zeros([AB.shape[0], AB.shape[0]])\n",
    "\n",
    "    Q[:, 0] = AB[:, 0]\n",
    "    B = AB[:, 0]\n",
    "    B = (1/norm(B)) * B\n",
    "    Q[:, 0] = B\n",
    "\n",
    "    n = 3\n",
    "    for i in range(1, n+1):\n",
    "        B = AB[:, i]\n",
    "        temp = np.zeros(AB.shape[0])\n",
    "\n",
    "        for j in range(0, i):  # Gram Schmidt Orthogonalization\n",
    "            Proj = Q[:, j].dot(B)\n",
    "            temp = temp + Proj * Q[:, j]\n",
    "\n",
    "        B = B-temp\n",
    "        B = B/norm(B)\n",
    "        Q[:, i] = B\n",
    "\n",
    "    Q=-Q\n",
    "\n",
    "    R=np.linalg.inv(Q).dot(AB)\n",
    "\n",
    "    \n",
    "\n",
    "    return Q,R\n"
   ]
  },
  {
   "cell_type": "code",
   "execution_count": 95,
   "metadata": {},
   "outputs": [
    {
     "data": {
      "text/plain": [
       "array([[ 5.34849955e+000,  2.41791249e-002, -4.51880580e-002,\n",
       "        -6.92867018e-003],\n",
       "       [ 9.00953012e-015,  5.77763888e+000,  1.25171392e-002,\n",
       "        -1.37797187e-001],\n",
       "       [ 1.63101822e-054,  5.65887672e-041,  2.22236112e+000,\n",
       "         2.61114265e-001],\n",
       "       [ 1.00088768e-115,  4.35020267e-102,  1.43820469e-061,\n",
       "         3.51500450e-001]])"
      ]
     },
     "execution_count": 95,
     "metadata": {},
     "output_type": "execute_result"
    }
   ],
   "source": [
    "H=H_matrix(0.4).copy()\n",
    "w=np.eye(4)\n",
    "for i in range(1,100):\n",
    "    Q,R= QR(H)\n",
    "    w=w.dot(Q)\n",
    "    H=R.dot(Q)\n",
    "\n",
    "\n",
    "H"
   ]
  },
  {
   "cell_type": "code",
   "execution_count": 97,
   "metadata": {},
   "outputs": [
    {
     "data": {
      "text/plain": [
       "array([[-1.72388358e-01, -2.50807122e-02,  1.36115668e-01,\n",
       "        -9.75256754e-01],\n",
       "       [-9.80411603e-15, -4.67532054e-01,  8.73764689e-01,\n",
       "         1.33974055e-01],\n",
       "       [-9.85029063e-01,  4.38933526e-03, -2.38213850e-02,\n",
       "         1.70678122e-01],\n",
       "       [-1.85435859e-14, -8.83609342e-01, -4.66304981e-01,\n",
       "        -4.23579354e-02]])"
      ]
     },
     "execution_count": 97,
     "metadata": {},
     "output_type": "execute_result"
    }
   ],
   "source": [
    "w"
   ]
  },
  {
   "cell_type": "code",
   "execution_count": 94,
   "metadata": {},
   "outputs": [
    {
     "data": {
      "text/plain": [
       "(array([0.35150045, 5.34849955, 2.22236112, 5.77763888]),\n",
       " array([[-0.98502906,  0.17238836,  0.13369257, -0.03473854],\n",
       "        [ 0.        ,  0.        ,  0.87531353, -0.46679171],\n",
       "        [ 0.17238836,  0.98502906, -0.03809794, -0.05102952],\n",
       "        [ 0.        ,  0.        , -0.4631426 , -0.88221013]]))"
      ]
     },
     "execution_count": 94,
     "metadata": {},
     "output_type": "execute_result"
    }
   ],
   "source": [
    "np.linalg.eig(H_matrix(0.4))"
   ]
  },
  {
   "cell_type": "code",
   "execution_count": null,
   "metadata": {},
   "outputs": [],
   "source": []
  }
 ],
 "metadata": {
  "interpreter": {
   "hash": "aee8b7b246df8f9039afb4144a1f6fd8d2ca17a180786b69acc140d282b71a49"
  },
  "kernelspec": {
   "display_name": "Python 3.8.3 64-bit",
   "name": "python3"
  },
  "language_info": {
   "codemirror_mode": {
    "name": "ipython",
    "version": 3
   },
   "file_extension": ".py",
   "mimetype": "text/x-python",
   "name": "python",
   "nbconvert_exporter": "python",
   "pygments_lexer": "ipython3",
   "version": "3.8.3"
  },
  "orig_nbformat": 4
 },
 "nbformat": 4,
 "nbformat_minor": 2
}
