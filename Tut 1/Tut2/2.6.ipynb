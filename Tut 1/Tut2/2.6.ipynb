{
 "cells": [
  {
   "cell_type": "code",
   "execution_count": 1,
   "source": [
    "import numpy as np\n",
    "import matplotlib.pyplot as plt\n"
   ],
   "outputs": [],
   "metadata": {}
  },
  {
   "cell_type": "code",
   "execution_count": 2,
   "source": [
    "def f(z,val):\n",
    "    ans=0\n",
    "    deg=len(z)-1\n",
    "    for i in range(0,len(z)):\n",
    "        ans= ans + z[i]*(val**deg)\n",
    "        deg=deg-1\n",
    "\n",
    "    return ans\n",
    "\n",
    "\n",
    "def manual_derivative(poly,z, dz, precision_digits):\n",
    "  \n",
    "    if (dz/10) != 0 and (f(poly,z+dz/10)-f(poly,z))/(dz/10) != 0:\n",
    "        if abs(abs((f(poly,z+dz)-f(poly,z))/dz - (f(poly,z+dz/10)-f(poly,dz))/(dz/10)) / (f(poly,z+dz/10)-f(poly,z))/(dz/10)) < 0.005 * pow(10, 2-precision_digits):\n",
    "\n",
    "            return (f(poly,z+dz/10)-f(poly,z))/(dz/10)\n",
    "\n",
    "        else:\n",
    "            manual_derivative(poly,z, dz/10, precision_digits)\n",
    "\n",
    "    else:\n",
    "        return (f(poly,z+dz)-f(poly,z))/dz\n",
    "\n",
    "    return ((f(poly,z+dz)-f(poly,z))/dz)\n"
   ],
   "outputs": [],
   "metadata": {}
  },
  {
   "cell_type": "code",
   "execution_count": 3,
   "source": [
    "def newt_z(poly,z_preds, precision_digits):\n",
    "    return z_preds[-1] - f(poly,z_preds[-1]) / (manual_derivative(poly,z_preds[-1], 0.01, precision_digits))\n",
    "\n",
    "\n",
    "def bisect_z(z_left, z_right):\n",
    "    return(z_left+z_right)/2\n",
    "\n",
    "\n"
   ],
   "outputs": [],
   "metadata": {}
  },
  {
   "cell_type": "code",
   "execution_count": 26,
   "source": [
    "def hybrid_method(poly,z_left, z_right, precision_digits, iteration_limit):\n",
    "    z_preds = []\n",
    "    e = []\n",
    "    z_preds.append(z_right)\n",
    "\n",
    "    newt_count = 0\n",
    "    bisect_count = 0\n",
    "\n",
    "    for i in range(0, iteration_limit):\n",
    "\n",
    "        if abs(newt_z(poly,z_preds, precision_digits)) < abs(z_right) and abs(z_left) > abs(newt_z(poly,z_preds, precision_digits)):\n",
    "            z_preds.append(newt_z(poly,z_preds, precision_digits))\n",
    "            newt_count += 1\n",
    "\n",
    "        else:\n",
    "\n",
    "            bisect_count += 1\n",
    "            z_mid = bisect_z(z_left, z_right)\n",
    "            z_preds.append(z_mid)\n",
    "            e.append(abs(z_preds[-2]-z_preds[-1])/(z_preds[-1]))\n",
    "\n",
    "            if (f(poly,z_left)*f(poly,z_mid)).real > 0:\n",
    "                z_left = z_mid\n",
    "\n",
    "            elif (f(poly,z_right)*f(poly,z_mid)).real > 0:\n",
    "                z_right = z_mid\n",
    "\n",
    "            else:\n",
    "                return z_preds, e, i+1, newt_count, bisect_count\n",
    "\n",
    "        e.append(abs(z_preds[-2]-z_preds[-1])/(z_preds[-1]))\n",
    "        if abs(abs(z_preds[-2]-z_preds[-1])/(z_preds[-1])) < 0.005 * pow(10, 2 - precision_digits):\n",
    "            break\n",
    "\n",
    "    return z_preds, e, i+1, newt_count, bisect_count\n"
   ],
   "outputs": [],
   "metadata": {}
  },
  {
   "cell_type": "code",
   "execution_count": 27,
   "source": [
    "poly_ = [1, -2, -3]\n",
    "z = np.arange(-5, 5, 0.1)\n",
    "plt.plot(z,f(poly_,z))\n",
    "plt.grid()\n",
    "plt.show()\n"
   ],
   "outputs": [
    {
     "output_type": "display_data",
     "data": {
      "image/png": "[encoded data removed]",
      "text/plain": [
       "<Figure size 432x288 with 1 Axes>"
      ]
     },
     "metadata": {
      "needs_background": "light"
     }
    }
   ],
   "metadata": {}
  },
  {
   "cell_type": "code",
   "execution_count": 28,
   "source": [
    "poly_=[1,-2,-3]\n",
    "n=len(poly_)-1\n",
    "\n",
    "roots=[]\n",
    "\n",
    "for i in range(0,n):\n",
    "    z_preds, errors, iterations, newt, bisect = hybrid_method(poly_, 0, 48+0j, 12, 1000)\n",
    "    root=z_preds[-1]\n",
    "    roots.append(root)\n",
    "    poly_,rem=np.polydiv(poly_,[1,-root])\n",
    "\n",
    "\n",
    "\n",
    "\n"
   ],
   "outputs": [],
   "metadata": {}
  },
  {
   "cell_type": "code",
   "execution_count": 29,
   "source": [
    "roots"
   ],
   "outputs": [
    {
     "output_type": "execute_result",
     "data": {
      "text/plain": [
       "[(3+0j), (-1+0j)]"
      ]
     },
     "metadata": {},
     "execution_count": 29
    }
   ],
   "metadata": {}
  },
  {
   "cell_type": "code",
   "execution_count": 164,
   "source": [],
   "outputs": [
    {
     "output_type": "stream",
     "name": "stderr",
     "text": [
      "<ipython-input-50-91fa37431990>:2: RuntimeWarning: divide by zero encountered in cdouble_scalars\n",
      "  return z_preds[-1] - f(poly,z_preds[-1]) / (manual_derivative(poly,z_preds[-1], 0.01, precision_digits))\n",
      "<ipython-input-50-91fa37431990>:2: RuntimeWarning: invalid value encountered in cdouble_scalars\n",
      "  return z_preds[-1] - f(poly,z_preds[-1]) / (manual_derivative(poly,z_preds[-1], 0.01, precision_digits))\n"
     ]
    }
   ],
   "metadata": {}
  },
  {
   "cell_type": "code",
   "execution_count": null,
   "source": [],
   "outputs": [],
   "metadata": {}
  },
  {
   "cell_type": "code",
   "execution_count": null,
   "source": [],
   "outputs": [],
   "metadata": {}
  },
  {
   "cell_type": "code",
   "execution_count": null,
   "source": [],
   "outputs": [],
   "metadata": {}
  }
 ],
 "metadata": {
  "orig_nbformat": 4,
  "language_info": {
   "name": "python",
   "version": "3.8.3",
   "mimetype": "text/x-python",
   "codemirror_mode": {
    "name": "ipython",
    "version": 3
   },
   "pygments_lexer": "ipython3",
   "nbconvert_exporter": "python",
   "file_extension": ".py"
  },
  "kernelspec": {
   "name": "python3",
   "display_name": "Python 3.8.3 64-bit"
  },
  "interpreter": {
   "hash": "aee8b7b246df8f9039afb4144a1f6fd8d2ca17a180786b69acc140d282b71a49"
  }
 },
 "nbformat": 4,
 "nbformat_minor": 2
}