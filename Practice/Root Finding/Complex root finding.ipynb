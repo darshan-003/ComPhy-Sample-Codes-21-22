{
 "cells": [
  {
   "cell_type": "code",
   "execution_count": 1,
   "metadata": {},
   "outputs": [],
   "source": [
    "import numpy as np\n",
    "import matplotlib.pyplot as plt"
   ]
  },
  {
   "cell_type": "code",
   "execution_count": 2,
   "metadata": {},
   "outputs": [],
   "source": [
    "def f(z):\n",
    "    return (z**3-6*z**2+11*z-6)\n",
    "\n",
    "\n",
    "def manual_derivative(z,dz,precision_digits):\n",
    "\n",
    "    # print((f(z+dz)-f(z))/dz)\n",
    "    if (dz/10)!=0 and (f(z+dz/10)-f(z))/(dz/10) != 0:\n",
    "        if abs(abs((f(z+dz)-f(z))/dz - (f(z+dz/10)-f(dz))/(dz/10)) / (f(z+dz/10)-f(z))/(dz/10)) < 0.005 * pow(10, 2-precision_digits):\n",
    "\n",
    "            return (f(z+dz/10)-f(z))/(dz/10)\n",
    "\n",
    "        else:\n",
    "            manual_derivative(z, dz/10, precision_digits)\n",
    "\n",
    "    else:\n",
    "        return (f(z+dz)-f(z))/dz\n",
    "\n",
    "    return ((f(z+dz)-f(z))/dz)\n"
   ]
  },
  {
   "cell_type": "code",
   "execution_count": 3,
   "metadata": {},
   "outputs": [],
   "source": [
    "def newton_ralphson(z_guess, precision_digits, iteration_limit):\n",
    "    z_preds = []\n",
    "    e = []\n",
    "    z_preds.append(z_guess)\n",
    "    i=0\n",
    "    for i in range(0, iteration_limit):\n",
    "        # print(\"i is\",i)\n",
    "        # print((manual_derivative(z_preds[-1], 0.01 + 0.01j, precision_digits)))\n",
    "        # print(\"done\")\n",
    "        z_preds.append(  z_preds[-1] - f(z_preds[-1]) / (manual_derivative(z_preds[-1], 0.001 + 0.001j, precision_digits)))\n",
    "\n",
    "        e.append(abs(z_preds[-2]-z_preds[-1])/(z_preds[-1]))\n",
    "        if abs(abs(z_preds[-2]-z_preds[-1])/(z_preds[-1])) < 0.005 * pow(10, 2-precision_digits):\n",
    "            break\n",
    "\n",
    "        \n",
    "\n",
    "    return z_preds, e, i\n"
   ]
  },
  {
   "cell_type": "code",
   "execution_count": 41,
   "metadata": {},
   "outputs": [],
   "source": [
    "z=[]\n",
    "e=[]\n",
    "\n",
    "z,e,i=newton_ralphson(2.9+40j,8,1000)"
   ]
  },
  {
   "cell_type": "code",
   "execution_count": 42,
   "metadata": {},
   "outputs": [
    {
     "data": {
      "text/plain": [
       "[(2.9+40j),\n",
       " (2.600458247193582+26.661448481324538j),\n",
       " (2.400826321696151+17.766305639438674j),\n",
       " (2.2678323513169767+11.832048905391378j),\n",
       " (2.179310849487608+7.869639471258347j),\n",
       " (2.120508319212447+5.218688929191422j),\n",
       " (2.081623327960189+3.437417334005352j),\n",
       " (2.056167429422852+2.2291102860850556j),\n",
       " (2.039852961060777+1.3930436916427522j),\n",
       " (2.029688107822705+0.7929657826523832j),\n",
       " (2.022273828987935+0.3457953091383695j),\n",
       " (2.009932118296052+0.06070373944881652j),\n",
       " (2.0002280559622485+0.0004149183598764275j),\n",
       " (2.000000001969878-6.500223987543352e-10j),\n",
       " (2-3.939765631788947e-15j)]"
      ]
     },
     "execution_count": 42,
     "metadata": {},
     "output_type": "execute_result"
    }
   ],
   "source": [
    "z"
   ]
  },
  {
   "cell_type": "code",
   "execution_count": 10,
   "metadata": {},
   "outputs": [
    {
     "data": {
      "text/plain": [
       "[<matplotlib.lines.Line2D at 0xbe4190>]"
      ]
     },
     "execution_count": 10,
     "metadata": {},
     "output_type": "execute_result"
    },
    {
     "data": {
      "image/png": "[encoded data removed]",
      "text/plain": [
       "<Figure size 432x288 with 1 Axes>"
      ]
     },
     "metadata": {
      "needs_background": "light"
     },
     "output_type": "display_data"
    }
   ],
   "source": [
    "x=np.arange(-1,3,0.01)\n",
    "y=f(x)\n",
    "\n",
    "plt.plot(x,y)"
   ]
  },
  {
   "cell_type": "code",
   "execution_count": null,
   "metadata": {},
   "outputs": [],
   "source": []
  },
  {
   "cell_type": "code",
   "execution_count": 133,
   "metadata": {},
   "outputs": [],
   "source": []
  },
  {
   "cell_type": "code",
   "execution_count": null,
   "metadata": {},
   "outputs": [],
   "source": []
  },
  {
   "cell_type": "code",
   "execution_count": null,
   "metadata": {},
   "outputs": [],
   "source": []
  },
  {
   "cell_type": "code",
   "execution_count": null,
   "metadata": {},
   "outputs": [],
   "source": []
  }
 ],
 "metadata": {
  "interpreter": {
   "hash": "67924368a3d1bc939f60fa2272677e457ba052a25ded14b90e6c294b1230524a"
  },
  "kernelspec": {
   "display_name": "Python 3.9.0 32-bit",
   "name": "python3"
  },
  "language_info": {
   "codemirror_mode": {
    "name": "ipython",
    "version": 3
   },
   "file_extension": ".py",
   "mimetype": "text/x-python",
   "name": "python",
   "nbconvert_exporter": "python",
   "pygments_lexer": "ipython3",
   "version": "3.9.0"
  },
  "orig_nbformat": 4
 },
 "nbformat": 4,
 "nbformat_minor": 2
}
