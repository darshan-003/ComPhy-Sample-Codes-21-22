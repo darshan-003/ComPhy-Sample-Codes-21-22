{
 "cells": [
  {
   "cell_type": "code",
   "execution_count": 1,
   "metadata": {},
   "outputs": [],
   "source": [
    "import numpy as np\n"
   ]
  },
  {
   "cell_type": "code",
   "execution_count": 2,
   "metadata": {},
   "outputs": [],
   "source": [
    "def f(x):\n",
    "    return (np.cos(x)-x)\n"
   ]
  },
  {
   "cell_type": "code",
   "execution_count": 10,
   "metadata": {},
   "outputs": [],
   "source": [
    "def secant(x_guess,x_guess2, precision_digits, iteration_limit):\n",
    "    x_preds=[]\n",
    "    e=[]\n",
    "    x_preds.append(x_guess)\n",
    "    x_preds.append(x_guess2)\n",
    "    for i in range(1,iteration_limit):\n",
    "        num=(x_preds[i-1]-x_preds[i])\n",
    "        denom= f(x_preds[i-1])-f(x_preds[i])\n",
    "        x_preds.append(x_preds[-1] - f(x_preds[-1])*num / denom)\n",
    "\n",
    "        e.append(abs(x_preds[-2]-x_preds[-1])/(x_preds[-1]))\n",
    "        if abs(x_preds[-2]-x_preds[-1])/(x_preds[-1]) < 0.005 * pow(10, 2-precision_digits):\n",
    "            break\n",
    "    \n",
    "    return x_preds,e,i\n"
   ]
  },
  {
   "cell_type": "code",
   "execution_count": 11,
   "metadata": {},
   "outputs": [],
   "source": [
    "x,e,i=secant(2,2.1,8,1000)"
   ]
  },
  {
   "cell_type": "code",
   "execution_count": 14,
   "metadata": {},
   "outputs": [
    {
     "data": {
      "text/plain": [
       "[2,\n",
       " 2.1,\n",
       " 0.7195780558766312,\n",
       " 0.7365920008902836,\n",
       " 0.739095996272989,\n",
       " 0.7390851272272881,\n",
       " 0.7390851332151462,\n",
       " 0.7390851332151607]"
      ]
     },
     "execution_count": 14,
     "metadata": {},
     "output_type": "execute_result"
    }
   ],
   "source": [
    "x"
   ]
  },
  {
   "cell_type": "code",
   "execution_count": null,
   "metadata": {},
   "outputs": [],
   "source": []
  },
  {
   "cell_type": "code",
   "execution_count": null,
   "metadata": {},
   "outputs": [],
   "source": []
  }
 ],
 "metadata": {
  "interpreter": {
   "hash": "67924368a3d1bc939f60fa2272677e457ba052a25ded14b90e6c294b1230524a"
  },
  "kernelspec": {
   "display_name": "Python 3.9.0 32-bit",
   "name": "python3"
  },
  "language_info": {
   "codemirror_mode": {
    "name": "ipython",
    "version": 3
   },
   "file_extension": ".py",
   "mimetype": "text/x-python",
   "name": "python",
   "nbconvert_exporter": "python",
   "pygments_lexer": "ipython3",
   "version": "3.9.0"
  },
  "orig_nbformat": 4
 },
 "nbformat": 4,
 "nbformat_minor": 2
}
