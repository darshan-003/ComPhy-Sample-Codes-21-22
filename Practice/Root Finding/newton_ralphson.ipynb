{
 "cells": [
  {
   "cell_type": "code",
   "execution_count": 1,
   "metadata": {},
   "outputs": [],
   "source": [
    "import numpy as np\n",
    "import matplotlib.pyplot as plt"
   ]
  },
  {
   "cell_type": "code",
   "execution_count": 2,
   "metadata": {},
   "outputs": [],
   "source": [
    "def f(x):\n",
    "    return (np.cos(x)-x)\n"
   ]
  },
  {
   "cell_type": "code",
   "execution_count": 3,
   "metadata": {},
   "outputs": [],
   "source": [
    "def manual_derivative(x,h,precision_digits):\n",
    "    if abs((f(x+h)-f(x))/h - (f(x+h/10)-f(x))/(h/10) ) / (f(x+h/10)-f(x))/(h/10) < 0.005 * pow(10, 2-precision_digits):\n",
    "\n",
    "        return (f(x+h/10)-f(x))/(h/10)\n",
    "\n",
    "    else:\n",
    "        manual_derivative(x, h/10, precision_digits)\n",
    "        "
   ]
  },
  {
   "cell_type": "code",
   "execution_count": null,
   "metadata": {},
   "outputs": [],
   "source": []
  },
  {
   "cell_type": "code",
   "execution_count": null,
   "metadata": {},
   "outputs": [],
   "source": []
  },
  {
   "cell_type": "code",
   "execution_count": null,
   "metadata": {},
   "outputs": [],
   "source": []
  },
  {
   "cell_type": "code",
   "execution_count": 4,
   "metadata": {},
   "outputs": [],
   "source": [
    "def newton_ralphson(x_guess, precision_digits, iteration_limit):\n",
    "    x_preds=[]\n",
    "    e=[]\n",
    "    x_preds.append(x_guess)\n",
    "    for i in range(0,iteration_limit):\n",
    "        x_preds.append(x_preds[-1] - f(x_preds[-1]) /  (manual_derivative(x_preds[-1], 0.001, precision_digits)))\n",
    "\n",
    "        e.append(abs(x_preds[-2]-x_preds[-1])/(x_preds[-1]))\n",
    "        if abs(x_preds[-2]-x_preds[-1])/(x_preds[-1]) < 0.005 * pow(10, 2-precision_digits):\n",
    "            break\n",
    "    \n",
    "    return x_preds,e,i\n"
   ]
  },
  {
   "cell_type": "code",
   "execution_count": 5,
   "metadata": {},
   "outputs": [],
   "source": [
    "x,e,i=newton_ralphson(2,8,1000)"
   ]
  },
  {
   "cell_type": "code",
   "execution_count": 6,
   "metadata": {},
   "outputs": [
    {
     "data": {
      "text/plain": [
       "([2,\n",
       "  0.7345223767967215,\n",
       "  0.7390896506852531,\n",
       "  0.739085133319409,\n",
       "  0.7390851332151629],\n",
       " [1.7228578232321143,\n",
       "  0.006179593888639943,\n",
       "  6.112104871980547e-06,\n",
       "  1.4104742680755267e-10])"
      ]
     },
     "execution_count": 6,
     "metadata": {},
     "output_type": "execute_result"
    }
   ],
   "source": [
    "x,e"
   ]
  },
  {
   "cell_type": "code",
   "execution_count": 7,
   "metadata": {},
   "outputs": [
    {
     "data": {
      "text/plain": [
       "[<matplotlib.lines.Line2D at 0x7f9a1b96d220>]"
      ]
     },
     "execution_count": 7,
     "metadata": {},
     "output_type": "execute_result"
    },
    {
     "data": {
      "image/png": "[encoded data removed]",
      "text/plain": [
       "<Figure size 432x288 with 1 Axes>"
      ]
     },
     "metadata": {
      "needs_background": "light"
     },
     "output_type": "display_data"
    }
   ],
   "source": [
    "plt.plot(np.arange(0,i+1),e)"
   ]
  },
  {
   "cell_type": "code",
   "execution_count": null,
   "metadata": {},
   "outputs": [],
   "source": []
  },
  {
   "cell_type": "code",
   "execution_count": null,
   "metadata": {},
   "outputs": [],
   "source": []
  }
 ],
 "metadata": {
  "interpreter": {
   "hash": "aee8b7b246df8f9039afb4144a1f6fd8d2ca17a180786b69acc140d282b71a49"
  },
  "kernelspec": {
   "display_name": "Python 3.8.3 64-bit",
   "name": "python3"
  },
  "language_info": {
   "codemirror_mode": {
    "name": "ipython",
    "version": 3
   },
   "file_extension": ".py",
   "mimetype": "text/x-python",
   "name": "python",
   "nbconvert_exporter": "python",
   "pygments_lexer": "ipython3",
   "version": "3.8.3"
  },
  "orig_nbformat": 4
 },
 "nbformat": 4,
 "nbformat_minor": 2
}
