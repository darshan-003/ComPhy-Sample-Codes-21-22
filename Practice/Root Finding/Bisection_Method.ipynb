{
 "cells": [
  {
   "cell_type": "code",
   "execution_count": 1,
   "metadata": {},
   "outputs": [],
   "source": [
    "import numpy as np\n",
    "import matplotlib.pyplot as plt"
   ]
  },
  {
   "cell_type": "code",
   "execution_count": 2,
   "metadata": {},
   "outputs": [],
   "source": [
    "def f(x):\n",
    "    return (np.cos(x)-x) "
   ]
  },
  {
   "cell_type": "code",
   "execution_count": 3,
   "metadata": {},
   "outputs": [
    {
     "data": {
      "image/png": "[encoded data removed]",
      "text/plain": [
       "<Figure size 432x288 with 1 Axes>"
      ]
     },
     "metadata": {
      "needs_background": "light"
     },
     "output_type": "display_data"
    }
   ],
   "source": [
    "x_points=np.arange(0,5,0.1)\n",
    "plt.plot(x_points,f(x_points))\n",
    "plt.grid()\n",
    "plt.show()"
   ]
  },
  {
   "cell_type": "code",
   "execution_count": 4,
   "metadata": {},
   "outputs": [],
   "source": [
    "def bisection(x_left,x_right,precision_digits,iteration_limit):\n",
    "    x_preds=[]\n",
    "    e=[]\n",
    "    x_preds.append(x_right)\n",
    "    i=0\n",
    "    \n",
    "    for i in range(0,iteration_limit): \n",
    "\n",
    "        x_mid=(x_left+x_right)/2\n",
    "        if f(x_left)*f(x_mid)>0 :\n",
    "\n",
    "            x_left=x_mid\n",
    "        \n",
    "\n",
    "        elif f(x_right)*f(x_mid)>0 :\n",
    "            x_right = x_mid\n",
    "\n",
    "        else :\n",
    "            x_preds.append(x_mid)\n",
    "            return x_preds,e\n",
    "        \n",
    "        x_preds.append(x_mid)\n",
    "\n",
    "        error=abs((x_mid)-(x_preds[-2]))/x_mid\n",
    "        \n",
    "        e.append(error)\n",
    "\n",
    "        \n",
    "        if(error< 0.005 * pow(10,2-precision_digits)):\n",
    "            return x_preds,e,i\n",
    "\n",
    "        \n",
    "        \n",
    "        \n",
    "    return x_preds,e,i\n",
    "\n",
    "\n",
    "\n",
    "\n"
   ]
  },
  {
   "cell_type": "code",
   "execution_count": 5,
   "metadata": {},
   "outputs": [],
   "source": [
    "x=[]\n",
    "e=[]\n",
    "x,e,iteration=bisection(0.0,1.0,8,1000)"
   ]
  },
  {
   "cell_type": "code",
   "execution_count": 6,
   "metadata": {},
   "outputs": [
    {
     "data": {
      "text/plain": [
       "[1.0,\n",
       " 0.5,\n",
       " 0.75,\n",
       " 0.625,\n",
       " 0.6875,\n",
       " 0.71875,\n",
       " 0.734375,\n",
       " 0.7421875,\n",
       " 0.73828125,\n",
       " 0.740234375,\n",
       " 0.7392578125,\n",
       " 0.73876953125,\n",
       " 0.739013671875,\n",
       " 0.7391357421875,\n",
       " 0.73907470703125,\n",
       " 0.739105224609375,\n",
       " 0.7390899658203125,\n",
       " 0.7390823364257812,\n",
       " 0.7390861511230469,\n",
       " 0.7390842437744141,\n",
       " 0.7390851974487305,\n",
       " 0.7390847206115723,\n",
       " 0.7390849590301514,\n",
       " 0.7390850782394409,\n",
       " 0.7390851378440857,\n",
       " 0.7390851080417633,\n",
       " 0.7390851229429245,\n",
       " 0.7390851303935051,\n",
       " 0.7390851341187954,\n",
       " 0.7390851322561502]"
      ]
     },
     "execution_count": 6,
     "metadata": {},
     "output_type": "execute_result"
    }
   ],
   "source": [
    "x"
   ]
  },
  {
   "cell_type": "code",
   "execution_count": null,
   "metadata": {},
   "outputs": [],
   "source": []
  },
  {
   "cell_type": "code",
   "execution_count": null,
   "metadata": {},
   "outputs": [],
   "source": []
  }
 ],
 "metadata": {
  "interpreter": {
   "hash": "67924368a3d1bc939f60fa2272677e457ba052a25ded14b90e6c294b1230524a"
  },
  "kernelspec": {
   "display_name": "Python 3.9.0 32-bit",
   "name": "python3"
  },
  "language_info": {
   "codemirror_mode": {
    "name": "ipython",
    "version": 3
   },
   "file_extension": ".py",
   "mimetype": "text/x-python",
   "name": "python",
   "nbconvert_exporter": "python",
   "pygments_lexer": "ipython3",
   "version": "3.9.0"
  },
  "orig_nbformat": 4
 },
 "nbformat": 4,
 "nbformat_minor": 2
}
