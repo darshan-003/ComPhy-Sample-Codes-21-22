{
 "cells": [
  {
   "cell_type": "code",
   "execution_count": 1,
   "metadata": {},
   "outputs": [],
   "source": [
    "import numpy as np\n",
    "import matplotlib.pyplot as plt\n",
    "\n"
   ]
  },
  {
   "cell_type": "code",
   "execution_count": 2,
   "metadata": {},
   "outputs": [],
   "source": [
    "def make_regression_eqn(x,y,deg):\n",
    "    A=np.zeros([deg+1,deg+1])\n",
    "    for i in range(0,deg+1):\n",
    "        for j in range(0,deg+1):\n",
    "            u=[v**(i+j) for v in x]\n",
    "            A[i][j]=sum(u);\n",
    "\n",
    "    \n",
    "\n",
    "    B=np.zeros(deg+1)\n",
    "    for i in range(0,deg+1):\n",
    "        u = [v**(i) for v in x]\n",
    "        w=[]\n",
    "        for j in range(0,len(x)):\n",
    "            w.append(y[j]*u[j])\n",
    "        B[i]=sum(w)\n",
    "\n",
    "    return A,B\n",
    "\n",
    "    \n",
    "def solve_regression(A,B):\n",
    "    ans=np.linalg.solve(A,B)\n",
    "    return ans\n"
   ]
  },
  {
   "cell_type": "code",
   "execution_count": 3,
   "metadata": {},
   "outputs": [],
   "source": [
    "x=[50,60,70,80,90,100]\n",
    "y=[80,55,45,35,25,22]"
   ]
  },
  {
   "cell_type": "code",
   "execution_count": 4,
   "metadata": {},
   "outputs": [
    {
     "data": {
      "text/plain": [
       "array([ 3.74222222e+02, -1.01236772e+01,  1.02976190e-01, -3.70370370e-04])"
      ]
     },
     "execution_count": 4,
     "metadata": {},
     "output_type": "execute_result"
    }
   ],
   "source": [
    "A,B=make_regression_eqn(x,y,3)\n",
    "Ans=solve_regression(A,B)\n",
    "\n",
    "Ans"
   ]
  },
  {
   "cell_type": "code",
   "execution_count": 5,
   "metadata": {},
   "outputs": [
    {
     "data": {
      "text/plain": [
       "[<matplotlib.lines.Line2D at 0x124319d0>]"
      ]
     },
     "execution_count": 5,
     "metadata": {},
     "output_type": "execute_result"
    },
    {
     "data": {
      "image/png": "[encoded data removed]",
      "text/plain": [
       "<Figure size 432x288 with 1 Axes>"
      ]
     },
     "metadata": {
      "needs_background": "light"
     },
     "output_type": "display_data"
    }
   ],
   "source": [
    "plt.scatter(x,y)\n",
    "\n",
    "x1=np.arange(min(x)-10,max(x)+10,0.1)\n",
    "y1=np.zeros(len(x1))\n",
    "for i in range(0,len(x1)):\n",
    "    for j in range(0,len(Ans)):\n",
    "        y1[i]+=Ans[j]*(x1[i]**j)\n",
    "plt.plot(x1,y1)\n"
   ]
  },
  {
   "cell_type": "code",
   "execution_count": null,
   "metadata": {},
   "outputs": [],
   "source": []
  },
  {
   "cell_type": "code",
   "execution_count": null,
   "metadata": {},
   "outputs": [],
   "source": []
  }
 ],
 "metadata": {
  "interpreter": {
   "hash": "67924368a3d1bc939f60fa2272677e457ba052a25ded14b90e6c294b1230524a"
  },
  "kernelspec": {
   "display_name": "Python 3.9.0 32-bit",
   "name": "python3"
  },
  "language_info": {
   "codemirror_mode": {
    "name": "ipython",
    "version": 3
   },
   "file_extension": ".py",
   "mimetype": "text/x-python",
   "name": "python",
   "nbconvert_exporter": "python",
   "pygments_lexer": "ipython3",
   "version": "3.9.0"
  },
  "orig_nbformat": 4
 },
 "nbformat": 4,
 "nbformat_minor": 2
}
