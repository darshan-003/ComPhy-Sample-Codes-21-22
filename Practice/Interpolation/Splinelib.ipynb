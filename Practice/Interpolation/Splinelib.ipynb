{
 "cells": [
  {
   "cell_type": "code",
   "execution_count": 48,
   "metadata": {},
   "outputs": [],
   "source": [
    "import numpy as np\n",
    "import scipy as sc\n",
    "import scipy.linalg\n",
    "import scipy.interpolate\n",
    "import matplotlib.pyplot as plt\n"
   ]
  },
  {
   "cell_type": "code",
   "execution_count": 49,
   "metadata": {},
   "outputs": [],
   "source": [
    "x = np.array([0,10,15,20,22.5,30])\n",
    "y = np.array([0,227.04,362.78,517.35,602.97,901.67])"
   ]
  },
  {
   "cell_type": "code",
   "execution_count": 50,
   "metadata": {},
   "outputs": [
    {
     "data": {
      "text/plain": [
       "[<matplotlib.lines.Line2D at 0x1c6edaa8>,\n",
       " <matplotlib.lines.Line2D at 0x1c6edb08>]"
      ]
     },
     "execution_count": 50,
     "metadata": {},
     "output_type": "execute_result"
    },
    {
     "data": {
      "image/png": "[encoded data removed]",
      "text/plain": [
       "<Figure size 432x288 with 1 Axes>"
      ]
     },
     "metadata": {
      "needs_background": "light"
     },
     "output_type": "display_data"
    }
   ],
   "source": [
    "f=scipy.interpolate.interp1d(x,y,kind='quadratic')\n",
    "\n",
    "x_new=np.arange(0,30,0.001)\n",
    "plt.plot(x,y,'o',x_new,f(x_new))"
   ]
  },
  {
   "cell_type": "code",
   "execution_count": 100,
   "metadata": {},
   "outputs": [],
   "source": [
    "def linspline(x,y):\n",
    "    n=x.shape[0]\n",
    "    A=np.zeros([(n-1)*2,(n-1)*2])\n",
    "\n",
    "    j=0\n",
    "    i=0\n",
    "    while j<n and i+1<(n-1)*2:\n",
    "        A[i][i]=x[j]\n",
    "        A[i][i+1]=1\n",
    "        A[i+1][i]=x[j+1]\n",
    "        A[i+1][i+1]=1\n",
    "        j=j+1\n",
    "        i=i+2\n",
    "\n",
    "    B=np.zeros((n-1)*2)\n",
    "    B[0]=y[0]\n",
    "    B[-1]=y[-1]\n",
    "\n",
    "    i=1\n",
    "    j=1\n",
    "    while i<n-1:\n",
    "        B[j]=y[i]\n",
    "        B[j+1]=y[i]\n",
    "        i=i+1\n",
    "        j=j+2\n",
    "\n",
    "    return A,B\n"
   ]
  },
  {
   "cell_type": "code",
   "execution_count": 101,
   "metadata": {},
   "outputs": [],
   "source": [
    "A,B=linspline(x,y)"
   ]
  },
  {
   "cell_type": "code",
   "execution_count": 102,
   "metadata": {},
   "outputs": [],
   "source": [
    "Matvals=np.linalg.solve(A,B)"
   ]
  },
  {
   "cell_type": "code",
   "execution_count": 117,
   "metadata": {},
   "outputs": [
    {
     "data": {
      "text/plain": [
       "[<matplotlib.lines.Line2D at 0x1e916e20>]"
      ]
     },
     "execution_count": 117,
     "metadata": {},
     "output_type": "execute_result"
    },
    {
     "data": {
      "image/png": "[encoded data removed]",
      "text/plain": [
       "<Figure size 432x288 with 1 Axes>"
      ]
     },
     "metadata": {
      "needs_background": "light"
     },
     "output_type": "display_data"
    }
   ],
   "source": [
    "x_points=np.arange(0,30,0.001)\n",
    "\n",
    "y_points=np.zeros(x_points.shape[0])\n",
    "\n",
    "j=0\n",
    "k=0\n",
    "for i in range(0,x_points.shape[0]):\n",
    "    if x_points[i]>=x[j+1]:\n",
    "        j=j+1\n",
    "        k=k+2\n",
    "\n",
    "    \n",
    "\n",
    "\n",
    "    y_points[i]=Matvals[k]*x_points[i]+Matvals[k+1]\n",
    "    \n",
    "\n",
    "    \n",
    "plt.plot(x_points,y_points)\n",
    "plt.plot(x,y,'ro')\n",
    "\n",
    "\n"
   ]
  },
  {
   "cell_type": "code",
   "execution_count": null,
   "metadata": {},
   "outputs": [],
   "source": []
  },
  {
   "cell_type": "code",
   "execution_count": null,
   "metadata": {},
   "outputs": [],
   "source": []
  },
  {
   "cell_type": "code",
   "execution_count": null,
   "metadata": {},
   "outputs": [],
   "source": []
  }
 ],
 "metadata": {
  "interpreter": {
   "hash": "67924368a3d1bc939f60fa2272677e457ba052a25ded14b90e6c294b1230524a"
  },
  "kernelspec": {
   "display_name": "Python 3.9.0 32-bit",
   "name": "python3"
  },
  "language_info": {
   "codemirror_mode": {
    "name": "ipython",
    "version": 3
   },
   "file_extension": ".py",
   "mimetype": "text/x-python",
   "name": "python",
   "nbconvert_exporter": "python",
   "pygments_lexer": "ipython3",
   "version": "3.9.0"
  },
  "orig_nbformat": 4
 },
 "nbformat": 4,
 "nbformat_minor": 2
}
