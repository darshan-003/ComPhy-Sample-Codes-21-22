{
 "cells": [
  {
   "cell_type": "code",
   "execution_count": 8,
   "metadata": {},
   "outputs": [],
   "source": [
    "import numpy as np"
   ]
  },
  {
   "cell_type": "code",
   "execution_count": 9,
   "metadata": {},
   "outputs": [],
   "source": [
    "def f(x):\n",
    "    return np.exp(x**2)"
   ]
  },
  {
   "cell_type": "code",
   "execution_count": 10,
   "metadata": {},
   "outputs": [],
   "source": [
    "def g(x,a,b): \n",
    "   return f(((b+a)+(b-a)*x)/2)\n",
    "\n"
   ]
  },
  {
   "cell_type": "code",
   "execution_count": 11,
   "metadata": {},
   "outputs": [],
   "source": [
    "def gaussQuadratic(a,b):\n",
    "    return ( g(-1/np.sqrt(3),a,b)+g(1/np.sqrt(3),a,b) ) * ((b-a)/2)"
   ]
  },
  {
   "cell_type": "code",
   "execution_count": 12,
   "metadata": {},
   "outputs": [],
   "source": [
    "def stop(val1,val2,precision):\n",
    "    x=abs((val2-val1)/val1)\n",
    "    if x< 0.5* pow(10,-precision):\n",
    "        return True\n",
    "    else: \n",
    "        return False\n",
    "\n"
   ]
  },
  {
   "cell_type": "code",
   "execution_count": 13,
   "metadata": {},
   "outputs": [],
   "source": [
    "def gaussLegendreofgivenDegree(deg,a,b):\n",
    "    xi,wi=sc.roots_legendre(deg)\n",
    "    ans=0\n",
    "    for i in range(0,deg):\n",
    "        ans+=wi[i]*g(xi[i],a,b)\n",
    "\n",
    "    return(ans*(abs(a-b)/2))\n"
   ]
  },
  {
   "cell_type": "code",
   "execution_count": 14,
   "metadata": {},
   "outputs": [],
   "source": [
    "import scipy.special as sc\n",
    "\n",
    "\n",
    "def gaussLegendre(a,b,precision):\n",
    "    \n",
    "    ans=gaussLegendreofgivenDegree(1,a,b)\n",
    "    i=2\n",
    "    while True:\n",
    "        \n",
    "        temp=gaussLegendreofgivenDegree(i,a,b)\n",
    "        if stop(ans,temp,precision)==True:\n",
    "            print(\"Degree is\" , i)\n",
    "            ans=temp\n",
    "            return temp\n",
    "        \n",
    "        ans=temp\n",
    "\n",
    "        # print(ans)\n",
    "        i=i+1\n",
    "\n",
    "        \n",
    "        \n",
    "\n",
    "    return(ans)\n"
   ]
  },
  {
   "cell_type": "code",
   "execution_count": 20,
   "metadata": {},
   "outputs": [
    {
     "data": {
      "text/plain": [
       "1443.0824711468063"
      ]
     },
     "execution_count": 20,
     "metadata": {},
     "output_type": "execute_result"
    }
   ],
   "source": [
    "gaussLegendreofgivenDegree(100,1,3)"
   ]
  },
  {
   "cell_type": "code",
   "execution_count": null,
   "metadata": {},
   "outputs": [],
   "source": []
  },
  {
   "cell_type": "code",
   "execution_count": null,
   "metadata": {},
   "outputs": [],
   "source": []
  },
  {
   "cell_type": "code",
   "execution_count": null,
   "metadata": {},
   "outputs": [],
   "source": []
  },
  {
   "cell_type": "code",
   "execution_count": null,
   "metadata": {},
   "outputs": [],
   "source": []
  }
 ],
 "metadata": {
  "interpreter": {
   "hash": "67924368a3d1bc939f60fa2272677e457ba052a25ded14b90e6c294b1230524a"
  },
  "kernelspec": {
   "display_name": "Python 3.9.0 32-bit",
   "name": "python3"
  },
  "language_info": {
   "codemirror_mode": {
    "name": "ipython",
    "version": 3
   },
   "file_extension": ".py",
   "mimetype": "text/x-python",
   "name": "python",
   "nbconvert_exporter": "python",
   "pygments_lexer": "ipython3",
   "version": "3.9.0"
  },
  "orig_nbformat": 4
 },
 "nbformat": 4,
 "nbformat_minor": 2
}
