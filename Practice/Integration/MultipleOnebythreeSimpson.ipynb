{
 "cells": [
  {
   "cell_type": "code",
   "execution_count": 2,
   "metadata": {},
   "outputs": [],
   "source": [
    "import numpy as np\n",
    "import scipy as sc\n",
    "import matplotlib.pyplot as plt \n"
   ]
  },
  {
   "cell_type": "code",
   "execution_count": 8,
   "metadata": {},
   "outputs": [],
   "source": [
    "a=3\n",
    "v=5\n",
    "xi=np.pi/10\n",
    "xf=np.pi/3"
   ]
  },
  {
   "cell_type": "code",
   "execution_count": 14,
   "metadata": {},
   "outputs": [],
   "source": [
    "def f(x):\n",
    "    return ((a**2)/(4*(v**2)))*(np.sin(x/2))**(-4)"
   ]
  },
  {
   "cell_type": "code",
   "execution_count": 15,
   "metadata": {},
   "outputs": [],
   "source": [
    "def singleonebythreesimpson(a,b):\n",
    "\n",
    "    x_mid=(a+b)/2\n",
    "\n",
    "    return(b-a)*(f(a)+4*f(x_mid)+f(b))/6\n",
    "    "
   ]
  },
  {
   "cell_type": "code",
   "execution_count": 16,
   "metadata": {},
   "outputs": [],
   "source": [
    "def Multipleonebythree(a,b,n):\n",
    "    area=0\n",
    "    h=(b-a)/n\n",
    "    for i in range(0,n):\n",
    "        area+=singleonebythreesimpson(a+i*h,a+(i+1)*h)\n",
    "\n",
    "    return area\n",
    "\n"
   ]
  },
  {
   "cell_type": "code",
   "execution_count": 17,
   "metadata": {},
   "outputs": [],
   "source": [
    "def MultipleonebythreeAccuracy(a,b,n,m):\n",
    "    if abs(Multipleonebythree(a,b,n)-Multipleonebythree(a,b,n*10))/Multipleonebythree(a,b,n*10) < 0.5*0.01*pow(10,2-m):\n",
    "        return Multipleonebythree(a,b,n*10)\n",
    "\n",
    "    else:\n",
    "        return MultipleonebythreeAccuracy(a,b,n*10,m)"
   ]
  },
  {
   "cell_type": "code",
   "execution_count": 19,
   "metadata": {},
   "outputs": [
    {
     "data": {
      "text/plain": [
       "2.6023692880058062"
      ]
     },
     "execution_count": 19,
     "metadata": {},
     "output_type": "execute_result"
    }
   ],
   "source": [
    "Multipleonebythree(np.pi/10,np.pi/3,100)/6"
   ]
  },
  {
   "cell_type": "code",
   "execution_count": null,
   "metadata": {},
   "outputs": [],
   "source": []
  }
 ],
 "metadata": {
  "interpreter": {
   "hash": "67924368a3d1bc939f60fa2272677e457ba052a25ded14b90e6c294b1230524a"
  },
  "kernelspec": {
   "display_name": "Python 3.9.0 32-bit",
   "name": "python3"
  },
  "language_info": {
   "codemirror_mode": {
    "name": "ipython",
    "version": 3
   },
   "file_extension": ".py",
   "mimetype": "text/x-python",
   "name": "python",
   "nbconvert_exporter": "python",
   "pygments_lexer": "ipython3",
   "version": "3.9.0"
  },
  "orig_nbformat": 4
 },
 "nbformat": 4,
 "nbformat_minor": 2
}
