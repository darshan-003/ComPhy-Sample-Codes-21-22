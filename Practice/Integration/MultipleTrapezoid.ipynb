{
 "cells": [
  {
   "cell_type": "code",
   "execution_count": 1,
   "metadata": {},
   "outputs": [],
   "source": [
    "import numpy as np\n",
    "import scipy as sc\n",
    "import matplotlib.pyplot as plt \n"
   ]
  },
  {
   "cell_type": "code",
   "execution_count": 2,
   "metadata": {},
   "outputs": [],
   "source": [
    "def f(x):\n",
    "    return np.exp(x**2)"
   ]
  },
  {
   "cell_type": "code",
   "execution_count": 3,
   "metadata": {},
   "outputs": [],
   "source": [
    "def MultipleTrap(a,b,n):\n",
    "    h=(b-a)/n\n",
    "\n",
    "    sumpoints=0\n",
    "    for i in range(1,n):\n",
    "        sumpoints+=f(a+i*h)\n",
    "\n",
    "    return (h/2)*(f(a)+f(b)+2*sumpoints)\n",
    "\n",
    "\n",
    "\n",
    "def MultipleTrapAccuracy(a,b,n,m):\n",
    "    if abs(MultipleTrap(a,b,n) -MultipleTrap(a,b,n*10))/MultipleTrap(a,b,n*10) < 0.5*0.01*pow(10,2-m):\n",
    "        return MultipleTrap(a,b,n*10)\n",
    "\n",
    "    else:\n",
    "        return MultipleTrapAccuracy(a,b,n*10,m)\n"
   ]
  },
  {
   "cell_type": "code",
   "execution_count": 4,
   "metadata": {},
   "outputs": [
    {
     "data": {
      "text/plain": [
       "1443.0824711629807"
      ]
     },
     "execution_count": 4,
     "metadata": {},
     "output_type": "execute_result"
    }
   ],
   "source": [
    "MultipleTrapAccuracy(1,3,1,8)"
   ]
  },
  {
   "cell_type": "code",
   "execution_count": null,
   "metadata": {},
   "outputs": [],
   "source": []
  },
  {
   "cell_type": "code",
   "execution_count": null,
   "metadata": {},
   "outputs": [],
   "source": []
  }
 ],
 "metadata": {
  "interpreter": {
   "hash": "67924368a3d1bc939f60fa2272677e457ba052a25ded14b90e6c294b1230524a"
  },
  "kernelspec": {
   "display_name": "Python 3.9.0 32-bit",
   "name": "python3"
  },
  "language_info": {
   "codemirror_mode": {
    "name": "ipython",
    "version": 3
   },
   "file_extension": ".py",
   "mimetype": "text/x-python",
   "name": "python",
   "nbconvert_exporter": "python",
   "pygments_lexer": "ipython3",
   "version": "3.9.0"
  },
  "orig_nbformat": 4
 },
 "nbformat": 4,
 "nbformat_minor": 2
}
