{
 "cells": [
  {
   "cell_type": "code",
   "execution_count": 1,
   "metadata": {},
   "outputs": [],
   "source": [
    "import numpy as np\n",
    "import matplotlib.pyplot as plt"
   ]
  },
  {
   "cell_type": "code",
   "execution_count": 2,
   "metadata": {},
   "outputs": [],
   "source": [
    "def f(x):\n",
    "    return np.exp(x**2)"
   ]
  },
  {
   "cell_type": "code",
   "execution_count": 3,
   "metadata": {},
   "outputs": [],
   "source": [
    "def MultipleTrap(a,b,n):\n",
    "    h=(b-a)/n\n",
    "    sumpoints=0\n",
    "    for i in range(1,n):\n",
    "        sumpoints+=f(a+i*h)\n",
    "\n",
    "    return (h/2)*(f(a)+f(b)+2*sumpoints)"
   ]
  },
  {
   "cell_type": "code",
   "execution_count": 9,
   "metadata": {},
   "outputs": [],
   "source": [
    "def roomberg(a,b,n,row):\n",
    "    Mat=np.zeros([row,row])\n",
    "    Mat+=0.0\n",
    "\n",
    "    \n",
    "    for i in range(0,row):\n",
    "        Mat[i][0]=MultipleTrap(a,b,n)\n",
    "        n=n*2\n",
    "\n",
    "    \n",
    "    \n",
    "    for q in range(1,row):\n",
    "        for p in range(0,row-q):\n",
    "            Mat[p][q]= (pow(4,q)*Mat[p+1][q-1]-Mat[p][q-1])/( pow(4,q)-1)\n",
    "\n",
    "\n",
    "    \n",
    "    return Mat[0][row-1]\n",
    "\n",
    "\n",
    "\n"
   ]
  },
  {
   "cell_type": "code",
   "execution_count": 10,
   "metadata": {},
   "outputs": [
    {
     "data": {
      "text/plain": [
       "1443.0824711468065"
      ]
     },
     "execution_count": 10,
     "metadata": {},
     "output_type": "execute_result"
    }
   ],
   "source": [
    "roomberg(1,3,100,7)"
   ]
  },
  {
   "cell_type": "code",
   "execution_count": null,
   "metadata": {},
   "outputs": [],
   "source": []
  }
 ],
 "metadata": {
  "interpreter": {
   "hash": "67924368a3d1bc939f60fa2272677e457ba052a25ded14b90e6c294b1230524a"
  },
  "kernelspec": {
   "display_name": "Python 3.9.0 32-bit",
   "name": "python3"
  },
  "language_info": {
   "codemirror_mode": {
    "name": "ipython",
    "version": 3
   },
   "file_extension": ".py",
   "mimetype": "text/x-python",
   "name": "python",
   "nbconvert_exporter": "python",
   "pygments_lexer": "ipython3",
   "version": "3.9.0"
  },
  "orig_nbformat": 4
 },
 "nbformat": 4,
 "nbformat_minor": 2
}
