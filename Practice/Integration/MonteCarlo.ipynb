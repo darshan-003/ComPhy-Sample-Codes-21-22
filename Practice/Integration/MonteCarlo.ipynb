{
 "cells": [
  {
   "cell_type": "code",
   "execution_count": 6,
   "metadata": {},
   "outputs": [],
   "source": [
    "import numpy as np\n",
    "import matplotlib.pyplot as plt"
   ]
  },
  {
   "cell_type": "code",
   "execution_count": 7,
   "metadata": {},
   "outputs": [],
   "source": [
    "def f(x):\n",
    "    return np.exp(x**2)"
   ]
  },
  {
   "cell_type": "code",
   "execution_count": 8,
   "metadata": {},
   "outputs": [],
   "source": [
    "def MontecarloMethod(a,b,n):\n",
    "    count=0\n",
    "    fmax=max(f(a),f(b))\n",
    "    \n",
    "    for i in range(0,n):\n",
    "        \n",
    "       \n",
    "        xi=np.random.uniform(a,b)\n",
    "        \n",
    "        yi=np.random.uniform(0,fmax)\n",
    "\n",
    "        \n",
    "        if yi<f(xi):\n",
    "            count=count+1\n",
    "    \n",
    "\n",
    "    return (count)/n *(b-a)* fmax\n",
    "\n",
    "        \n",
    "\n",
    "\n"
   ]
  },
  {
   "cell_type": "code",
   "execution_count": 9,
   "metadata": {},
   "outputs": [],
   "source": [
    "def MontecarloAccuracy(a,b,n,m):\n",
    "    if abs(MontecarloMethod(a,b,n*2)-MontecarloMethod(a,b,n))/MontecarloMethod(a,b,n*2) < 0.5*0.01*pow(10,2-m):\n",
    "        return MontecarloMethod(a,b,n*2)\n",
    "\n",
    "    else:\n",
    "        return MontecarloAccuracy(a,b,n*2,m)"
   ]
  },
  {
   "cell_type": "code",
   "execution_count": 10,
   "metadata": {},
   "outputs": [],
   "source": [
    "def ModifiedMonteCarlo(a,b,n):\n",
    "    sum=0\n",
    "    for i in range(0,n):\n",
    "       xi=np.random.uniform(a,b)\n",
    "       sum+=f(xi)\n",
    "        \n",
    "\n",
    "   \n",
    "    return (b-a)*sum/n"
   ]
  },
  {
   "cell_type": "code",
   "execution_count": 15,
   "metadata": {},
   "outputs": [
    {
     "data": {
      "text/plain": [
       "1466.5377742450771"
      ]
     },
     "execution_count": 15,
     "metadata": {},
     "output_type": "execute_result"
    }
   ],
   "source": [
    "ModifiedMonteCarlo(1,3,10000)"
   ]
  },
  {
   "cell_type": "code",
   "execution_count": 20,
   "metadata": {},
   "outputs": [
    {
     "data": {
      "text/plain": [
       "1492.5880594593857"
      ]
     },
     "execution_count": 20,
     "metadata": {},
     "output_type": "execute_result"
    }
   ],
   "source": [
    "MontecarloMethod(1,3,10000)"
   ]
  },
  {
   "cell_type": "code",
   "execution_count": null,
   "metadata": {},
   "outputs": [],
   "source": []
  },
  {
   "cell_type": "code",
   "execution_count": null,
   "metadata": {},
   "outputs": [],
   "source": []
  },
  {
   "cell_type": "code",
   "execution_count": null,
   "metadata": {},
   "outputs": [],
   "source": []
  },
  {
   "cell_type": "code",
   "execution_count": null,
   "metadata": {},
   "outputs": [],
   "source": []
  }
 ],
 "metadata": {
  "interpreter": {
   "hash": "67924368a3d1bc939f60fa2272677e457ba052a25ded14b90e6c294b1230524a"
  },
  "kernelspec": {
   "display_name": "Python 3.9.0 32-bit",
   "name": "python3"
  },
  "language_info": {
   "codemirror_mode": {
    "name": "ipython",
    "version": 3
   },
   "file_extension": ".py",
   "mimetype": "text/x-python",
   "name": "python",
   "nbconvert_exporter": "python",
   "pygments_lexer": "ipython3",
   "version": "3.9.0"
  },
  "orig_nbformat": 4
 },
 "nbformat": 4,
 "nbformat_minor": 2
}
