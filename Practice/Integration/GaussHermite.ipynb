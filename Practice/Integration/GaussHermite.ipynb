{
 "cells": [
  {
   "cell_type": "code",
   "execution_count": 103,
   "metadata": {},
   "outputs": [],
   "source": [
    "import numpy as np\n",
    "import scipy.special as sc\n",
    "\n",
    "\n",
    "def f(x):\n",
    "    return np.exp(-abs(x))\n",
    "\n",
    "def g(x):\n",
    "    return np.exp(pow(x,2))*f(x)\n",
    "\n",
    "\n",
    "def stop(val1,val2,precision):\n",
    "    if np.isnan(val1) or val1==0:\n",
    "        return True\n",
    "    x=abs((val2-val1)/val1)\n",
    "    if x< 0.5* pow(10,-precision):\n",
    "        return True\n",
    "    else: \n",
    "        return False\n",
    "\n",
    "    \n",
    "\n",
    "\n",
    "\n"
   ]
  },
  {
   "cell_type": "code",
   "execution_count": 104,
   "metadata": {},
   "outputs": [],
   "source": [
    "def gaussHermiteOfaGivenDegree(deg):\n",
    "    xi,wi=sc.roots_hermite(deg)\n",
    "    ans=0\n",
    "    ans=ans*0\n",
    "\n",
    "    for i in range(0,deg):\n",
    "        ans+=wi[i]*g(xi[i])\n",
    "\n",
    "    return ans\n",
    "    "
   ]
  },
  {
   "cell_type": "code",
   "execution_count": 119,
   "metadata": {},
   "outputs": [],
   "source": [
    "import scipy.special as sc\n",
    "\n",
    "\n",
    "def gaussHermite(precision):\n",
    "    ans=gaussHermiteOfaGivenDegree(1)\n",
    "    \n",
    "    i=2\n",
    "    \n",
    "    \n",
    "    \n",
    "    while True:\n",
    "        \n",
    "        temp=gaussHermiteOfaGivenDegree(i)\n",
    "        if stop(ans,temp,precision)==True:\n",
    "            ans=temp\n",
    "            return temp\n",
    "        \n",
    "        ans=temp\n",
    "\n",
    "        print(ans)\n",
    "        i=i+1\n",
    "\n",
    "        \n",
    "        \n",
    "\n",
    "    return(ans)\n"
   ]
  },
  {
   "cell_type": "code",
   "execution_count": 122,
   "metadata": {},
   "outputs": [
    {
     "data": {
      "text/plain": [
       "2.0105890501382073"
      ]
     },
     "execution_count": 122,
     "metadata": {},
     "output_type": "execute_result"
    }
   ],
   "source": [
    "gaussHermiteOfaGivenDegree(77)"
   ]
  },
  {
   "cell_type": "code",
   "execution_count": null,
   "metadata": {},
   "outputs": [],
   "source": []
  }
 ],
 "metadata": {
  "interpreter": {
   "hash": "67924368a3d1bc939f60fa2272677e457ba052a25ded14b90e6c294b1230524a"
  },
  "kernelspec": {
   "display_name": "Python 3.9.0 32-bit",
   "name": "python3"
  },
  "language_info": {
   "codemirror_mode": {
    "name": "ipython",
    "version": 3
   },
   "file_extension": ".py",
   "mimetype": "text/x-python",
   "name": "python",
   "nbconvert_exporter": "python",
   "pygments_lexer": "ipython3",
   "version": "3.9.0"
  },
  "orig_nbformat": 4
 },
 "nbformat": 4,
 "nbformat_minor": 2
}
