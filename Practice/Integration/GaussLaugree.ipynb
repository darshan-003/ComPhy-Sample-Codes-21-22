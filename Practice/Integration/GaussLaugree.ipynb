{
 "cells": [
  {
   "cell_type": "code",
   "execution_count": 44,
   "metadata": {},
   "outputs": [],
   "source": [
    "import numpy as np\n",
    "import scipy.special as sc"
   ]
  },
  {
   "cell_type": "code",
   "execution_count": 45,
   "metadata": {},
   "outputs": [],
   "source": [
    "def f(x):\n",
    "    return x/(1+x)**4\n"
   ]
  },
  {
   "cell_type": "code",
   "execution_count": 46,
   "metadata": {},
   "outputs": [],
   "source": [
    "def g(x):\n",
    "    return np.exp(x)*f(x)"
   ]
  },
  {
   "cell_type": "code",
   "execution_count": 64,
   "metadata": {},
   "outputs": [],
   "source": [
    "def stop(val1,val2,precision):\n",
    "    if np.isnan(val1) or val1==0:\n",
    "        return True\n",
    "    x=abs((val2-val1)/val1)\n",
    "    if x< 0.5* pow(10,-precision):\n",
    "        return True\n",
    "    else: \n",
    "        return False\n",
    "\n"
   ]
  },
  {
   "cell_type": "code",
   "execution_count": 65,
   "metadata": {},
   "outputs": [],
   "source": [
    "def gaussLaugreeOfaGivenDegree(deg):\n",
    "    xi,wi=sc.roots_laguerre(deg)\n",
    "    ans=0\n",
    "    for i in range(0,deg):\n",
    "        ans+=wi[i]*g(xi[i])\n",
    "\n",
    "    return ans\n",
    "    "
   ]
  },
  {
   "cell_type": "code",
   "execution_count": 73,
   "metadata": {},
   "outputs": [],
   "source": [
    "import scipy.special as sc\n",
    "\n",
    "\n",
    "def gaussLaugree(precision):\n",
    "    ans=gaussLaugreeOfaGivenDegree(1)\n",
    "    \n",
    "    i=2\n",
    "    \n",
    "    \n",
    "    \n",
    "    while True:\n",
    "        \n",
    "        temp=gaussLaugreeOfaGivenDegree(i)\n",
    "        if stop(ans,temp,precision)==True:\n",
    "            ans=temp\n",
    "            return temp\n",
    "        \n",
    "        ans=temp\n",
    "\n",
    "        # print(ans)\n",
    "        i=i+1\n",
    "\n",
    "        \n",
    "        \n",
    "\n",
    "    return(ans)\n"
   ]
  },
  {
   "cell_type": "code",
   "execution_count": 74,
   "metadata": {},
   "outputs": [
    {
     "data": {
      "text/plain": [
       "0.16666291926344126"
      ]
     },
     "execution_count": 74,
     "metadata": {},
     "output_type": "execute_result"
    }
   ],
   "source": [
    "gaussLaugree(6)"
   ]
  },
  {
   "cell_type": "code",
   "execution_count": null,
   "metadata": {},
   "outputs": [],
   "source": []
  },
  {
   "cell_type": "code",
   "execution_count": null,
   "metadata": {},
   "outputs": [],
   "source": []
  }
 ],
 "metadata": {
  "interpreter": {
   "hash": "67924368a3d1bc939f60fa2272677e457ba052a25ded14b90e6c294b1230524a"
  },
  "kernelspec": {
   "display_name": "Python 3.9.0 32-bit",
   "name": "python3"
  },
  "language_info": {
   "codemirror_mode": {
    "name": "ipython",
    "version": 3
   },
   "file_extension": ".py",
   "mimetype": "text/x-python",
   "name": "python",
   "nbconvert_exporter": "python",
   "pygments_lexer": "ipython3",
   "version": "3.9.0"
  },
  "orig_nbformat": 4
 },
 "nbformat": 4,
 "nbformat_minor": 2
}
