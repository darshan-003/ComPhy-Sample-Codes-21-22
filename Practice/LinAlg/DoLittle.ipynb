{
 "cells": [
  {
   "cell_type": "code",
   "execution_count": 11,
   "metadata": {},
   "outputs": [],
   "source": [
    "import numpy as np\n",
    "import scipy as sc\n",
    "from scipy.linalg import lu\n"
   ]
  },
  {
   "cell_type": "code",
   "execution_count": 20,
   "metadata": {},
   "outputs": [],
   "source": [
    "A=np.array([[3.0,5,2],[0,8,2],[6,2,8]])"
   ]
  },
  {
   "cell_type": "code",
   "execution_count": 24,
   "metadata": {},
   "outputs": [],
   "source": [
    "def DoLittle(A):\n",
    "    U=np.zeros([A.shape[0],A.shape[0]])\n",
    "    L=np.eye(A.shape[0])\n",
    "    n= A.shape[0]\n",
    "\n",
    "    for i in range(0,n):\n",
    "        U[0][i]=A[0][i]\n",
    "    \n",
    "    for i in range(0,n):\n",
    "        L[i][0]= A[i][0]/U[0][0]\n",
    "\n",
    "\n",
    "    for i in range(0,n):\n",
    "        for j in range(0,n):\n",
    "\n",
    "            if(j>=i):\n",
    "                sum=0\n",
    "                for k in range(0,i):\n",
    "                    sum+=L[i][k]*U[k][j]\n",
    "\n",
    "                U[i][j]=A[i][j]-sum\n",
    "\n",
    "            else:\n",
    "                sum=0.0\n",
    "                for k in range(0,j):\n",
    "                    sum+=L[i][k]*U[k][j]\n",
    "\n",
    "                L[i][j]=(A[i][j]-sum)/U[j][j]\n",
    "\n",
    "    \n",
    "\n",
    "    return L,U\n",
    "\n",
    "\n",
    "\n",
    "\n"
   ]
  },
  {
   "cell_type": "code",
   "execution_count": 26,
   "metadata": {},
   "outputs": [],
   "source": []
  },
  {
   "cell_type": "code",
   "execution_count": null,
   "metadata": {},
   "outputs": [],
   "source": []
  },
  {
   "cell_type": "code",
   "execution_count": null,
   "metadata": {},
   "outputs": [],
   "source": []
  }
 ],
 "metadata": {
  "interpreter": {
   "hash": "67924368a3d1bc939f60fa2272677e457ba052a25ded14b90e6c294b1230524a"
  },
  "kernelspec": {
   "display_name": "Python 3.9.0 32-bit",
   "name": "python3"
  },
  "language_info": {
   "codemirror_mode": {
    "name": "ipython",
    "version": 3
   },
   "file_extension": ".py",
   "mimetype": "text/x-python",
   "name": "python",
   "nbconvert_exporter": "python",
   "pygments_lexer": "ipython3",
   "version": "3.9.0"
  },
  "orig_nbformat": 4
 },
 "nbformat": 4,
 "nbformat_minor": 2
}
