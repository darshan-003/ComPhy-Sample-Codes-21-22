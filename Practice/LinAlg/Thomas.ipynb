{
 "cells": [
  {
   "cell_type": "code",
   "execution_count": 1,
   "metadata": {},
   "outputs": [],
   "source": [
    "import numpy as np\n",
    "import scipy as sc"
   ]
  },
  {
   "cell_type": "code",
   "execution_count": 11,
   "metadata": {},
   "outputs": [],
   "source": [
    "def thomas(B):\n",
    "\n",
    "    A=B.copy()\n",
    "    n=A.shape[0]\n",
    "    for i in range(0,n):\n",
    "        if i==0:\n",
    "             A[i][:]=A[i][:]/A[i][i]\n",
    "\n",
    "        if i!=0:\n",
    "            A[i][:]=A[i][:]-A[i][i-1]*A[i-1][:]\n",
    "\n",
    "            A[i][:]=A[i][:]/A[i][i]\n",
    "\n",
    "    \n",
    "\n",
    "    return A\n",
    "\n",
    "        \n",
    "\n",
    "    \n",
    "\n"
   ]
  },
  {
   "cell_type": "code",
   "execution_count": 12,
   "metadata": {},
   "outputs": [],
   "source": [
    "A=np.array([[-2.6,1,0,0],[1,-2.6,1,0],[0,1,-2.6,1],[0,0,1,-2.6]])"
   ]
  },
  {
   "cell_type": "code",
   "execution_count": 13,
   "metadata": {},
   "outputs": [
    {
     "data": {
      "text/plain": [
       "array([[ 1.        , -0.38461538, -0.        , -0.        ],\n",
       "       [-0.        ,  1.        , -0.45138889, -0.        ],\n",
       "       [-0.        , -0.        ,  1.        , -0.46541694],\n",
       "       [-0.        , -0.        , -0.        ,  1.        ]])"
      ]
     },
     "execution_count": 13,
     "metadata": {},
     "output_type": "execute_result"
    }
   ],
   "source": [
    "thomas(A)"
   ]
  },
  {
   "cell_type": "code",
   "execution_count": null,
   "metadata": {},
   "outputs": [],
   "source": []
  }
 ],
 "metadata": {
  "interpreter": {
   "hash": "67924368a3d1bc939f60fa2272677e457ba052a25ded14b90e6c294b1230524a"
  },
  "kernelspec": {
   "display_name": "Python 3.9.0 32-bit",
   "name": "python3"
  },
  "language_info": {
   "codemirror_mode": {
    "name": "ipython",
    "version": 3
   },
   "file_extension": ".py",
   "mimetype": "text/x-python",
   "name": "python",
   "nbconvert_exporter": "python",
   "pygments_lexer": "ipython3",
   "version": "3.9.0"
  },
  "orig_nbformat": 4
 },
 "nbformat": 4,
 "nbformat_minor": 2
}
