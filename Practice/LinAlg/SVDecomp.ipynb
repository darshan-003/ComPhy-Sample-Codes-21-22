{
 "cells": [
  {
   "cell_type": "code",
   "execution_count": 35,
   "metadata": {},
   "outputs": [],
   "source": [
    "import numpy as np\n",
    "import scipy as sc\n",
    "import scipy.linalg"
   ]
  },
  {
   "cell_type": "code",
   "execution_count": 36,
   "metadata": {},
   "outputs": [],
   "source": [
    "A=np.array([[5,5,],[-1,7]])"
   ]
  },
  {
   "cell_type": "code",
   "execution_count": 37,
   "metadata": {},
   "outputs": [],
   "source": [
    "def svd(A):\n",
    "\n",
    "    K=np.transpose(A).dot(A)\n",
    "\n",
    "    eigval,vec=np.linalg.eig(K)\n",
    "\n",
    "    sigma=np.zeros([A.shape[0],A.shape[0]])\n",
    "\n",
    "    n=A.shape[0]\n",
    "    for i in range (0,n):\n",
    "        sigma[i][i]=np.sqrt(eigval[i])\n",
    "\n",
    "    \n",
    "    U=A.dot(vec).dot(np.linalg.inv(sigma))\n",
    "    \n",
    "\n",
    "    return U,sigma,np.transpose(vec)"
   ]
  },
  {
   "cell_type": "code",
   "execution_count": 38,
   "metadata": {},
   "outputs": [
    {
     "data": {
      "text/plain": [
       "(array([[-0.70710678, -0.70710678],\n",
       "        [ 0.70710678, -0.70710678]]),\n",
       " array([[4.47213595, 0.        ],\n",
       "        [0.        , 8.94427191]]),\n",
       " array([[-0.9486833 ,  0.31622777],\n",
       "        [-0.31622777, -0.9486833 ]]))"
      ]
     },
     "execution_count": 38,
     "metadata": {},
     "output_type": "execute_result"
    }
   ],
   "source": [
    "svd(A)"
   ]
  },
  {
   "cell_type": "code",
   "execution_count": null,
   "metadata": {},
   "outputs": [],
   "source": []
  },
  {
   "cell_type": "code",
   "execution_count": null,
   "metadata": {},
   "outputs": [],
   "source": []
  }
 ],
 "metadata": {
  "interpreter": {
   "hash": "67924368a3d1bc939f60fa2272677e457ba052a25ded14b90e6c294b1230524a"
  },
  "kernelspec": {
   "display_name": "Python 3.9.0 32-bit",
   "name": "python3"
  },
  "language_info": {
   "codemirror_mode": {
    "name": "ipython",
    "version": 3
   },
   "file_extension": ".py",
   "mimetype": "text/x-python",
   "name": "python",
   "nbconvert_exporter": "python",
   "pygments_lexer": "ipython3",
   "version": "3.9.0"
  },
  "orig_nbformat": 4
 },
 "nbformat": 4,
 "nbformat_minor": 2
}
