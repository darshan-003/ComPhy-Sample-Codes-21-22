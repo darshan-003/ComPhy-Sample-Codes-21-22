{
 "cells": [
  {
   "cell_type": "code",
   "execution_count": 49,
   "metadata": {},
   "outputs": [],
   "source": [
    "import numpy as np\n",
    "import scipy.linalg"
   ]
  },
  {
   "cell_type": "code",
   "execution_count": 50,
   "metadata": {},
   "outputs": [
    {
     "data": {
      "text/plain": [
       "array([[3., 5., 6.],\n",
       "       [5., 8., 2.],\n",
       "       [6., 2., 8.]])"
      ]
     },
     "execution_count": 50,
     "metadata": {},
     "output_type": "execute_result"
    }
   ],
   "source": [
    "A=np.array([[3.0,5,6],[5,8,2],[6,2,8]])\n",
    "A"
   ]
  },
  {
   "cell_type": "code",
   "execution_count": 51,
   "metadata": {},
   "outputs": [],
   "source": [
    "import numpy as np\n",
    "\n",
    "def norm(B):\n",
    "    norm_=0\n",
    "    for i in range(B.shape[0]):\n",
    "        norm_= norm_ + B[i]*B[i]\n",
    "    return np.sqrt(norm_)\n",
    "\n",
    "\n",
    "def QR(AB):\n",
    "    Q=np.zeros([AB.shape[0],AB.shape[0]])\n",
    "\n",
    "    Q[:, 0] = AB[:, 0]\n",
    "    B=AB[:,0]\n",
    "    B=(1/norm(B)) * B\n",
    "    Q[:,0]=B\n",
    "\n",
    "\n",
    "    n=3\n",
    "    for i in range(1,n):\n",
    "        B=AB[:,i]\n",
    "        temp=np.zeros(AB.shape[0])\n",
    "\n",
    "        for j in range(0,i):                    #Gram Schmidt Orthogonalization\n",
    "            Proj=Q[:,j].dot(B)\n",
    "            temp=temp+ Proj* Q[:,j]\n",
    "        \n",
    "        B=B-temp\n",
    "        B=B/norm(B)\n",
    "        Q[:,i]=B\n",
    "\n",
    "    \n",
    "    R=np.linalg.inv(Q).dot(AB)\n",
    "\n",
    "    return Q, R\n",
    "\n",
    "\n",
    "\n",
    "\n",
    "\n",
    "\n",
    "\n",
    "\n",
    "\n"
   ]
  },
  {
   "cell_type": "code",
   "execution_count": 71,
   "metadata": {},
   "outputs": [],
   "source": [
    "def eigvalvecqr(A):\n",
    "    B=np.eye(A.shape[0])\n",
    "    D=A.copy()\n",
    "\n",
    "    for i in range(0,1000):\n",
    "        Q,R=QR(D)\n",
    "        B=B.dot(Q.copy())\n",
    "        D=R.dot(Q)\n",
    "\n",
    "    \n",
    "    return D.diagonal(),B\n",
    "\n",
    "\n",
    "    \n",
    "    \n"
   ]
  },
  {
   "cell_type": "code",
   "execution_count": 72,
   "metadata": {},
   "outputs": [
    {
     "data": {
      "text/plain": [
       "(array([15.04569484,  6.02738727, -2.07308211]),\n",
       " array([[ 0.54372909, -0.03859178, -0.83837304],\n",
       "        [ 0.56263089,  0.75798656,  0.33000432],\n",
       "        [ 0.62274004, -0.65112752,  0.43385227]]))"
      ]
     },
     "execution_count": 72,
     "metadata": {},
     "output_type": "execute_result"
    }
   ],
   "source": [
    "eigvalvecqr(A)"
   ]
  },
  {
   "cell_type": "code",
   "execution_count": null,
   "metadata": {},
   "outputs": [],
   "source": []
  },
  {
   "cell_type": "code",
   "execution_count": null,
   "metadata": {},
   "outputs": [],
   "source": []
  },
  {
   "cell_type": "code",
   "execution_count": null,
   "metadata": {},
   "outputs": [],
   "source": []
  },
  {
   "cell_type": "code",
   "execution_count": null,
   "metadata": {},
   "outputs": [],
   "source": []
  },
  {
   "cell_type": "code",
   "execution_count": null,
   "metadata": {},
   "outputs": [],
   "source": []
  },
  {
   "cell_type": "code",
   "execution_count": null,
   "metadata": {},
   "outputs": [],
   "source": []
  },
  {
   "cell_type": "code",
   "execution_count": null,
   "metadata": {},
   "outputs": [],
   "source": []
  },
  {
   "cell_type": "code",
   "execution_count": null,
   "metadata": {},
   "outputs": [],
   "source": []
  },
  {
   "cell_type": "code",
   "execution_count": null,
   "metadata": {},
   "outputs": [],
   "source": []
  }
 ],
 "metadata": {
  "interpreter": {
   "hash": "67924368a3d1bc939f60fa2272677e457ba052a25ded14b90e6c294b1230524a"
  },
  "kernelspec": {
   "display_name": "Python 3.9.0 32-bit",
   "name": "python3"
  },
  "language_info": {
   "codemirror_mode": {
    "name": "ipython",
    "version": 3
   },
   "file_extension": ".py",
   "mimetype": "text/x-python",
   "name": "python",
   "nbconvert_exporter": "python",
   "pygments_lexer": "ipython3",
   "version": "3.9.0"
  },
  "orig_nbformat": 4
 },
 "nbformat": 4,
 "nbformat_minor": 2
}
