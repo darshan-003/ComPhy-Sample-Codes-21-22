{
 "cells": [
  {
   "cell_type": "code",
   "execution_count": 44,
   "metadata": {},
   "outputs": [],
   "source": [
    "import numpy as np\n",
    "import scipy as sc\n",
    "from scipy.linalg import lu\n"
   ]
  },
  {
   "cell_type": "code",
   "execution_count": 45,
   "metadata": {},
   "outputs": [],
   "source": [
    "A=np.array([[4.0,12,-16],[12,37,-43],[-16,-43,98]])"
   ]
  },
  {
   "cell_type": "code",
   "execution_count": 46,
   "metadata": {},
   "outputs": [],
   "source": [
    "def chol(A):\n",
    "    L=np.zeros([A.shape[0],A.shape[0]])\n",
    "\n",
    "    n=A.shape[0]\n",
    "    L[0][0]=np.sqrt(A[0][0])\n",
    "\n",
    "    for i in range(0,n):\n",
    "        L[i][0]=A[i][0]/L[0][0]\n",
    "\n",
    "\n",
    "    for i in range(1,n):\n",
    "        sum=0\n",
    "        for k in range(0,i):\n",
    "            sum+=L[i][k]**2\n",
    "        \n",
    "        L[i][i]=np.sqrt(A[i][i]-sum)\n",
    "    \n",
    "    for i in range(0,n):\n",
    "        for j in range(1,n):\n",
    "\n",
    "            if(j<i):\n",
    "                sum=0\n",
    "                for k in range(0,j):\n",
    "                    sum+=L[i][k]*L[j][k]\n",
    "\n",
    "                L[i][j]=(A[i][j]-sum)/L[j][j]\n",
    "\n",
    "    \n",
    "    U = np.zeros([A.shape[0],A.shape[0]])\n",
    "\n",
    "    for i in range (0,n):\n",
    "        for j in range(0,n):\n",
    "            U[i][j] = L[j][i]\n",
    "\n",
    "\n",
    "\n",
    "\n",
    "    return L,U\n",
    "\n",
    "\n",
    "\n",
    "            "
   ]
  },
  {
   "cell_type": "code",
   "execution_count": 47,
   "metadata": {},
   "outputs": [],
   "source": [
    "L,U=(chol(A))"
   ]
  },
  {
   "cell_type": "code",
   "execution_count": 48,
   "metadata": {},
   "outputs": [
    {
     "data": {
      "text/plain": [
       "array([[ 2.        ,  0.        ,  0.        ],\n",
       "       [ 6.        ,  1.        ,  0.        ],\n",
       "       [-8.        ,  5.        ,  5.83095189]])"
      ]
     },
     "execution_count": 48,
     "metadata": {},
     "output_type": "execute_result"
    }
   ],
   "source": [
    "L"
   ]
  },
  {
   "cell_type": "code",
   "execution_count": 49,
   "metadata": {},
   "outputs": [
    {
     "data": {
      "text/plain": [
       "array([[ 2.        ,  6.        , -8.        ],\n",
       "       [ 0.        ,  1.        ,  5.        ],\n",
       "       [ 0.        ,  0.        ,  5.83095189]])"
      ]
     },
     "execution_count": 49,
     "metadata": {},
     "output_type": "execute_result"
    }
   ],
   "source": [
    "U"
   ]
  },
  {
   "cell_type": "code",
   "execution_count": null,
   "metadata": {},
   "outputs": [],
   "source": []
  },
  {
   "cell_type": "code",
   "execution_count": null,
   "metadata": {},
   "outputs": [],
   "source": []
  },
  {
   "cell_type": "code",
   "execution_count": null,
   "metadata": {},
   "outputs": [],
   "source": []
  },
  {
   "cell_type": "code",
   "execution_count": null,
   "metadata": {},
   "outputs": [],
   "source": []
  },
  {
   "cell_type": "code",
   "execution_count": null,
   "metadata": {},
   "outputs": [],
   "source": []
  },
  {
   "cell_type": "code",
   "execution_count": null,
   "metadata": {},
   "outputs": [],
   "source": []
  }
 ],
 "metadata": {
  "interpreter": {
   "hash": "67924368a3d1bc939f60fa2272677e457ba052a25ded14b90e6c294b1230524a"
  },
  "kernelspec": {
   "display_name": "Python 3.9.0 32-bit",
   "name": "python3"
  },
  "language_info": {
   "codemirror_mode": {
    "name": "ipython",
    "version": 3
   },
   "file_extension": ".py",
   "mimetype": "text/x-python",
   "name": "python",
   "nbconvert_exporter": "python",
   "pygments_lexer": "ipython3",
   "version": "3.9.0"
  },
  "orig_nbformat": 4
 },
 "nbformat": 4,
 "nbformat_minor": 2
}
