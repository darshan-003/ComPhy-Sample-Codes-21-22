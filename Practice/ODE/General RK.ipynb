{
 "cells": [
  {
   "cell_type": "code",
   "execution_count": 4,
   "metadata": {},
   "outputs": [],
   "source": [
    "import numpy as np\n",
    "import matplotlib.pyplot as plt"
   ]
  },
  {
   "cell_type": "code",
   "execution_count": 3,
   "metadata": {},
   "outputs": [],
   "source": [
    "def f(x,y):\n",
    "    return  np.sin(x)"
   ]
  },
  {
   "cell_type": "code",
   "execution_count": 5,
   "metadata": {},
   "outputs": [],
   "source": [
    "def phi(a,b,c):\n",
    "    return 0\n",
    "\n",
    "\n",
    "\n",
    "def rk_calc(x_given,y_given,n,x_leftlimit,x_rightlimit):\n",
    "    y_predict=[]\n",
    "    y_predict=y_predict.append(y_given)\n",
    "    \n",
    "    n_left=abs(x_given-x_leftlimit)/abs((x_rightlimit-x_leftlimit)) *n\n",
    "\n",
    "    n_right = n - n_left\n",
    "\n",
    "    h_left= abs(x_given-x_leftlimit)/n_left\n",
    "\n",
    "    h_right= abs(x_rightlimit-x_given)/n_right\n",
    "\n",
    "    x_left_points=np.arange(x_leftlimit,x_given,h_left)\n",
    "\n",
    "    x_left_points_invert= x_left_points.reverse()\n",
    "\n",
    "    for i in range(0,len(x_left_points)):\n",
    "        \n",
    "        if i==0:\n",
    "            y_predict=y_predict.append(y_given-phi(x_given,y_given,h_left))\n",
    "\n",
    "        else:\n",
    "             y_predict=y_predict.append(y_predict[-1]-phi(x_left_points_invert[i],y_predict[-1],h_left))\n",
    "\n",
    "    \n",
    "    y_predict=y_predict.reverse()\n",
    "\n",
    "\n",
    "        # for i in range(0,len(x_r)):\n",
    "        \n",
    "        # if i==0:\n",
    "        #     y_predict=y_predict.append(y_given-phi(x_given,y_given,h_left))\n",
    "\n",
    "        # else:\n",
    "        #      y_predict=y_predict.append(y_predict[-1]-phi(x_left_points_invert[i],y_predict[-1],h_left))\n",
    "\n",
    "\n",
    "\n",
    "\n",
    "  \n",
    " "
   ]
  },
  {
   "cell_type": "code",
   "execution_count": null,
   "metadata": {},
   "outputs": [],
   "source": []
  }
 ],
 "metadata": {
  "interpreter": {
   "hash": "67924368a3d1bc939f60fa2272677e457ba052a25ded14b90e6c294b1230524a"
  },
  "kernelspec": {
   "display_name": "Python 3.9.0 32-bit",
   "language": "python",
   "name": "python3"
  },
  "language_info": {
   "codemirror_mode": {
    "name": "ipython",
    "version": 3
   },
   "file_extension": ".py",
   "mimetype": "text/x-python",
   "name": "python",
   "nbconvert_exporter": "python",
   "pygments_lexer": "ipython3",
   "version": "3.9.0"
  },
  "orig_nbformat": 4
 },
 "nbformat": 4,
 "nbformat_minor": 2
}
