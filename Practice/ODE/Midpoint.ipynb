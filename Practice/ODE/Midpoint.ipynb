{
 "cells": [
  {
   "cell_type": "code",
   "execution_count": 90,
   "metadata": {},
   "outputs": [],
   "source": [
    "import numpy as np\n",
    "import matplotlib.pyplot as plt"
   ]
  },
  {
   "cell_type": "code",
   "execution_count": 126,
   "metadata": {},
   "outputs": [],
   "source": [
    "def f(x,y):\n",
    "    return np.sin(x+y)+np.cos(x+y)"
   ]
  },
  {
   "cell_type": "code",
   "execution_count": 127,
   "metadata": {},
   "outputs": [],
   "source": [
    "# First Lets calculate  y(i+1/2) i.e the midpoint\n",
    "\n",
    "\n",
    "# If we need to calculate points to left of the given point\n",
    "def midpoint_y_left(y_predicts,x,h):\n",
    "    return( y_predicts[-1] + f(x,y_predicts[-1])*(-h/2) ) \n",
    "\n",
    "\n",
    "\n",
    "# If we need to calculate points to right of the given point\n",
    "def midpoint_y_right(y_predicts,x,h):\n",
    "    return( y_predicts[-1] + f(x,y_predicts[-1])*(h/2) ) \n"
   ]
  },
  {
   "cell_type": "code",
   "execution_count": null,
   "metadata": {},
   "outputs": [],
   "source": []
  },
  {
   "cell_type": "code",
   "execution_count": 128,
   "metadata": {},
   "outputs": [],
   "source": [
    "# Now lets use the midpoint Method \n",
    "\n",
    "\n",
    "def midpoint_method(x0,y0,x1,x2,n):\n",
    "    y_predict=[]\n",
    "    y_predict.append(y0)\n",
    "    h=abs(x2-x1)/n\n",
    "\n",
    "    n1= int((abs(x1-x0)/(x2-x1))*n)             #Divide the region as left and right of the given point\n",
    "    n2=n-n1\n",
    "\n",
    "    for i in range(1,n1):                       #Predict to the left of the given initial value\n",
    "        midpoint = x0 -(i*h)+(h/2)\n",
    "        y_pred=y_predict[-1] -f(midpoint,midpoint_y_left(y_predict,x0-(i-1)*h,h))*h\n",
    "        y_predict.append(y_pred)\n",
    "\n",
    "    y_predict.reverse()                         #Reverses the appending  since now we calculate to the right of the point\n",
    "\n",
    "\n",
    "    for i in range(1,n2):                       #Predict to the right of the given initial value\n",
    "\n",
    "        midpoint = x0 + i*h -h/2\n",
    "        y_pred=y_predict[-1] + f(midpoint,midpoint_y_right(y_predict,x0+(i-1)*h,h))*h\n",
    "        y_predict.append(y_pred)\n",
    "        \n",
    "\n",
    "\n",
    "    \n",
    "    return y_predict\n",
    "\n",
    "\n"
   ]
  },
  {
   "cell_type": "code",
   "execution_count": 129,
   "metadata": {},
   "outputs": [],
   "source": [
    "def plot_func(x0,y0,x1,x2,n):\n",
    "    y_predictions=midpoint_method(x0,y0,x1,x2,n)\n",
    "    n1=len(y_predictions)\n",
    "    x=np.arange(x1,x2,(x2-x1)/n1)\n",
    "    plt.plot(x,y_predictions)"
   ]
  },
  {
   "cell_type": "code",
   "execution_count": 130,
   "metadata": {},
   "outputs": [
    {
     "data": {
      "image/png": "[encoded data removed]",
      "text/plain": [
       "<Figure size 432x288 with 1 Axes>"
      ]
     },
     "metadata": {
      "needs_background": "light"
     },
     "output_type": "display_data"
    }
   ],
   "source": [
    "plot_func(0,1,-100,100,10000)\n"
   ]
  },
  {
   "cell_type": "code",
   "execution_count": null,
   "metadata": {},
   "outputs": [],
   "source": []
  },
  {
   "cell_type": "code",
   "execution_count": null,
   "metadata": {},
   "outputs": [],
   "source": []
  }
 ],
 "metadata": {
  "interpreter": {
   "hash": "67924368a3d1bc939f60fa2272677e457ba052a25ded14b90e6c294b1230524a"
  },
  "kernelspec": {
   "display_name": "Python 3.9.0 32-bit",
   "name": "python3"
  },
  "language_info": {
   "codemirror_mode": {
    "name": "ipython",
    "version": 3
   },
   "file_extension": ".py",
   "mimetype": "text/x-python",
   "name": "python",
   "nbconvert_exporter": "python",
   "pygments_lexer": "ipython3",
   "version": "3.9.0"
  },
  "orig_nbformat": 4
 },
 "nbformat": 4,
 "nbformat_minor": 2
}
