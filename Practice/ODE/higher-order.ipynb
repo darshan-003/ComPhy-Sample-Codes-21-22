{
 "cells": [
  {
   "cell_type": "code",
   "execution_count": 50,
   "metadata": {},
   "outputs": [],
   "source": [
    "import numpy as np\n",
    "import matplotlib.pyplot as plt"
   ]
  },
  {
   "cell_type": "code",
   "execution_count": 71,
   "metadata": {},
   "outputs": [],
   "source": [
    "def f1(x,y,v):\n",
    "    return v\n",
    "\n",
    "def f2(x,y,v):\n",
    "    return y/(x**2) - (v/x)"
   ]
  },
  {
   "cell_type": "code",
   "execution_count": 72,
   "metadata": {},
   "outputs": [],
   "source": [
    "def k1(f,x,y,v,h):\n",
    "    return f(x,y,v)\n",
    "\n",
    "\n",
    "def k2(f,x,y,v,h):\n",
    "    return (f(x+h/2 ,y+k1(f,x,y,v,h)*h/2,v))\n",
    "\n",
    "def k3(f,x,y,v,h):\n",
    "    return (f(x+h/2, y+ k2(f,x,y,v,h)*h/2,v))\n",
    "\n",
    "def k4(f,x,y,v,h):\n",
    "    return( f(x+h, y+ k3(f,x,y,v,h) * h,v))\n",
    "\n",
    "\n",
    "# def the value of k1,k2,k3,k4 for the RK4 method\n"
   ]
  },
  {
   "cell_type": "code",
   "execution_count": 73,
   "metadata": {},
   "outputs": [],
   "source": [
    "def phi_RK4(f,x,y,v,h):\n",
    "    return (k1(f,x,y,v,h)+2*k2(f,x,y,v,h)+2*k3(f,x,y,v,h)+k4(f,x,y,v,h))/6\n",
    "\n",
    "# Def the value of phi in terms of the k's"
   ]
  },
  {
   "cell_type": "code",
   "execution_count": 84,
   "metadata": {},
   "outputs": [],
   "source": [
    "y0=0.0038731   #Initial value\n",
    "v0=-0.00048611  #Initial Derivative value\n",
    "\n",
    "x_initial=5     #Starting value\n",
    "x_final=8    #Ending value\n",
    "\n",
    "h=0.75"
   ]
  },
  {
   "cell_type": "code",
   "execution_count": 85,
   "metadata": {},
   "outputs": [],
   "source": [
    "y=[]\n",
    "y.append(y0)\n",
    "\n",
    "v=[]\n",
    "v.append(v0)\n",
    "\n",
    "x=x_initial\n",
    "while x<x_final: \n",
    "    y.append(y[-1]+phi_RK4(f1,x,y[-1],v[-1],h)*h)   \n",
    "    v.append(v[-1]+phi_RK4(f2,x,y[-2],v[-1],h)*h)\n",
    "    x=x+h\n",
    "\n"
   ]
  },
  {
   "cell_type": "code",
   "execution_count": 86,
   "metadata": {},
   "outputs": [
    {
     "data": {
      "text/plain": [
       "[0.0038731,\n",
       " 0.0035085175,\n",
       " 0.0032723208885878556,\n",
       " 0.0031187067006281516,\n",
       " 0.0030213710691338685]"
      ]
     },
     "execution_count": 86,
     "metadata": {},
     "output_type": "execute_result"
    }
   ],
   "source": [
    "y"
   ]
  },
  {
   "cell_type": "code",
   "execution_count": null,
   "metadata": {},
   "outputs": [],
   "source": []
  },
  {
   "cell_type": "code",
   "execution_count": null,
   "metadata": {},
   "outputs": [],
   "source": []
  },
  {
   "cell_type": "code",
   "execution_count": null,
   "metadata": {},
   "outputs": [],
   "source": []
  }
 ],
 "metadata": {
  "interpreter": {
   "hash": "67924368a3d1bc939f60fa2272677e457ba052a25ded14b90e6c294b1230524a"
  },
  "kernelspec": {
   "display_name": "Python 3.9.0 32-bit",
   "language": "python",
   "name": "python3"
  },
  "language_info": {
   "codemirror_mode": {
    "name": "ipython",
    "version": 3
   },
   "file_extension": ".py",
   "mimetype": "text/x-python",
   "name": "python",
   "nbconvert_exporter": "python",
   "pygments_lexer": "ipython3",
   "version": "3.9.0"
  },
  "orig_nbformat": 4
 },
 "nbformat": 4,
 "nbformat_minor": 2
}
