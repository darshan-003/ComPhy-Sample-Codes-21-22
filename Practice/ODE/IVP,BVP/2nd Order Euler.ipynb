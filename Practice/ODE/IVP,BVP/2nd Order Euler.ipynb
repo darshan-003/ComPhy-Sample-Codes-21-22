{
 "cells": [
  {
   "cell_type": "code",
   "execution_count": 9,
   "metadata": {},
   "outputs": [],
   "source": [
    "import numpy as np\n",
    "import matplotlib.pyplot as plt\n",
    "\n",
    "\n",
    "# For The eqns \n",
    "\n",
    "# dv/dt = f1(t,v,x)\n",
    "\n",
    "# dx/dt = f2(t,v,x)"
   ]
  },
  {
   "cell_type": "code",
   "execution_count": 10,
   "metadata": {},
   "outputs": [],
   "source": [
    "def f1(t,v,x):\n",
    "    return(-(3-t**2)*x)\n",
    "\n",
    "\n",
    "def f2(t,v,x):\n",
    "    return(v)"
   ]
  },
  {
   "cell_type": "code",
   "execution_count": 11,
   "metadata": {},
   "outputs": [],
   "source": [
    "def k1v(f1,f2,t,v,x,h):\n",
    "    return( f1(t,v,x) )\n",
    "\n",
    "\n",
    "def k1x(f1,f2,t,v,x,h):\n",
    "    return( f2(t,v,x) )\n",
    "\n",
    "\n",
    "\n",
    "\n"
   ]
  },
  {
   "cell_type": "code",
   "execution_count": 12,
   "metadata": {},
   "outputs": [],
   "source": [
    "def phiv(f1,f2,t,v,x,h):\n",
    "    return(k1v(f1,f2,t,v,x,h))"
   ]
  },
  {
   "cell_type": "code",
   "execution_count": 13,
   "metadata": {},
   "outputs": [],
   "source": [
    "def phix(f1,f2,t,v,x,h):\n",
    "    return(k1x(f1,f2,t,v,x,h))"
   ]
  },
  {
   "cell_type": "code",
   "execution_count": 14,
   "metadata": {},
   "outputs": [],
   "source": [
    "# Initial Conditions\n",
    "a1=1\n",
    "a2=0\n",
    "v=[]\n",
    "v.append(a2)\n",
    "x=[]\n",
    "x.append(a1)\n",
    "t=[]\n",
    "t.append(0)\n",
    "L=1\n",
    "N=10\n",
    "h=L/N"
   ]
  },
  {
   "cell_type": "code",
   "execution_count": 15,
   "metadata": {},
   "outputs": [],
   "source": [
    "for i in range(0,4):\n",
    "    p=(v[-1]+h*phiv(f1,f2,t[-1],v[-1],x[-1],h))\n",
    "    q=(x[-1]+h*phix(f1,f2,t[-1],v[-1],x[-1],h))\n",
    "    v.append(p)\n",
    "    x.append(q)\n",
    "    t.append(t[-1]+h)\n",
    "\n"
   ]
  },
  {
   "cell_type": "code",
   "execution_count": 16,
   "metadata": {},
   "outputs": [
    {
     "data": {
      "text/plain": [
       "([0, 0.1, 0.2, 0.30000000000000004, 0.4],\n",
       " [1, 1.0, 0.97, 0.9100999999999999, 0.8214879999999999],\n",
       " [0, -0.30000000000000004, -0.5990000000000001, -0.88612, -1.1509591000000001])"
      ]
     },
     "execution_count": 16,
     "metadata": {},
     "output_type": "execute_result"
    }
   ],
   "source": [
    "t,x,v"
   ]
  },
  {
   "cell_type": "code",
   "execution_count": 17,
   "metadata": {},
   "outputs": [],
   "source": [
    "# Initial Conditions\n",
    "a1=1\n",
    "a2=0\n",
    "v=[]\n",
    "v.append(a2)\n",
    "x=[]\n",
    "x.append(a1)\n",
    "t=[]\n",
    "t.append(0)\n",
    "L=1\n",
    "N=10\n",
    "h=L/N"
   ]
  },
  {
   "cell_type": "code",
   "execution_count": 18,
   "metadata": {},
   "outputs": [],
   "source": [
    "for i in range(0,10):\n",
    "        p=(v[-1]+h*phiv(f1,f2,t[-1],v[-1],x[-1],h))\n",
    "        q=(x[-1]+h*phix(f1,f2,t[-1],v[-1],x[-1],h))\n",
    "        v.append(p)\n",
    "        x.append(q)\n",
    "        t.append(t[-1]+h)"
   ]
  },
  {
   "cell_type": "code",
   "execution_count": 19,
   "metadata": {},
   "outputs": [
    {
     "data": {
      "text/plain": [
       "([0,\n",
       "  0.1,\n",
       "  0.2,\n",
       "  0.30000000000000004,\n",
       "  0.4,\n",
       "  0.5,\n",
       "  0.6,\n",
       "  0.7,\n",
       "  0.7999999999999999,\n",
       "  0.8999999999999999,\n",
       "  0.9999999999999999],\n",
       " [1,\n",
       "  1.0,\n",
       "  0.97,\n",
       "  0.9100999999999999,\n",
       "  0.8214879999999999,\n",
       "  0.7063920899999998,\n",
       "  0.5679659207999997,\n",
       "  0.41011396912499976,\n",
       "  0.23726771714087974,\n",
       "  0.05412760453172222,\n",
       "  -0.13461202620196006],\n",
       " [0,\n",
       "  -0.30000000000000004,\n",
       "  -0.5990000000000001,\n",
       "  -0.88612,\n",
       "  -1.1509591000000001,\n",
       "  -1.3842616920000002,\n",
       "  -1.5785195167500001,\n",
       "  -1.7284625198412,\n",
       "  -1.831401126091575,\n",
       "  -1.8873963073368227,\n",
       "  -1.8992502527292698])"
      ]
     },
     "execution_count": 19,
     "metadata": {},
     "output_type": "execute_result"
    }
   ],
   "source": [
    "t,x,v"
   ]
  },
  {
   "cell_type": "code",
   "execution_count": null,
   "metadata": {},
   "outputs": [],
   "source": []
  },
  {
   "cell_type": "code",
   "execution_count": 40,
   "metadata": {},
   "outputs": [],
   "source": [
    "a1=1\n",
    "a2=0.05\n",
    "v=[]\n",
    "v.append(a2)\n",
    "x=[]\n",
    "x.append(a1)\n",
    "t=[]\n",
    "t.append(0)\n",
    "L=1\n",
    "N=1000\n",
    "h=L/N"
   ]
  },
  {
   "cell_type": "code",
   "execution_count": 41,
   "metadata": {},
   "outputs": [],
   "source": [
    "for i in range(0,500):\n",
    "        p=(v[-1]+h*phiv(f1,f2,t[-1],v[-1],x[-1],h))\n",
    "        q=(x[-1]+h*phix(f1,f2,t[-1],v[-1],x[-1],h))\n",
    "        v.append(p)\n",
    "        x.append(q)\n",
    "        t.append(t[-1]+h)"
   ]
  },
  {
   "cell_type": "code",
   "execution_count": 44,
   "metadata": {},
   "outputs": [
    {
     "data": {
      "text/plain": [
       "(0.5000000000000003, -0.6544384754249027, -3.5040476462362604)"
      ]
     },
     "execution_count": 44,
     "metadata": {},
     "output_type": "execute_result"
    }
   ],
   "source": [
    "t[-1],x[-1],v[-1]"
   ]
  },
  {
   "cell_type": "code",
   "execution_count": 48,
   "metadata": {},
   "outputs": [
    {
     "data": {
      "text/plain": [
       "(1.0000000000000007, -0.17764403588786265, 4.503270388409452)"
      ]
     },
     "execution_count": 48,
     "metadata": {},
     "output_type": "execute_result"
    }
   ],
   "source": [
    "a1=1\n",
    "a2=0.05\n",
    "v=[]\n",
    "v.append(a2)\n",
    "x=[]\n",
    "x.append(a1)\n",
    "t=[]\n",
    "t.append(0)\n",
    "L=1\n",
    "N=1000\n",
    "h=L/N\n",
    "\n",
    "for i in range(0,1000):\n",
    "        p=(v[-1]+h*phiv(f1,f2,t[-1],v[-1],x[-1],h))\n",
    "        q=(x[-1]+h*phix(f1,f2,t[-1],v[-1],x[-1],h))\n",
    "        v.append(p)\n",
    "        x.append(q)\n",
    "        t.append(t[-1]+h)\n",
    "\n",
    "\n",
    "t[-1],x[-1],v[-1]"
   ]
  },
  {
   "cell_type": "code",
   "execution_count": null,
   "metadata": {},
   "outputs": [],
   "source": []
  }
 ],
 "metadata": {
  "interpreter": {
   "hash": "67924368a3d1bc939f60fa2272677e457ba052a25ded14b90e6c294b1230524a"
  },
  "kernelspec": {
   "display_name": "Python 3.9.0 32-bit",
   "language": "python",
   "name": "python3"
  },
  "language_info": {
   "codemirror_mode": {
    "name": "ipython",
    "version": 3
   },
   "file_extension": ".py",
   "mimetype": "text/x-python",
   "name": "python",
   "nbconvert_exporter": "python",
   "pygments_lexer": "ipython3",
   "version": "3.9.0"
  },
  "orig_nbformat": 4
 },
 "nbformat": 4,
 "nbformat_minor": 2
}
