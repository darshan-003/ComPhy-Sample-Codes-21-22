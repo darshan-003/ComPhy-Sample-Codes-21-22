{
 "cells": [
  {
   "cell_type": "code",
   "execution_count": 9,
   "metadata": {},
   "outputs": [],
   "source": [
    "import numpy as np\n",
    "import matplotlib.pyplot as plt\n",
    "\n",
    "\n",
    "# For The eqns \n",
    "\n",
    "# dv/dt = f1(t,v,x)\n",
    "\n",
    "# dx/dt = f2(t,v,x)"
   ]
  },
  {
   "cell_type": "code",
   "execution_count": 10,
   "metadata": {},
   "outputs": [],
   "source": [
    "def f1(t,v,x):\n",
    "    return(-10*np.sin(x))\n",
    "\n",
    "\n",
    "def f2(t,v,x):\n",
    "    return(v)"
   ]
  },
  {
   "cell_type": "code",
   "execution_count": 11,
   "metadata": {},
   "outputs": [],
   "source": [
    "def k1v(f1,f2,t,v,x,h):\n",
    "    return( f1(t,v,x) )\n",
    "\n",
    "def k2v(f1,f2,t,v,x,h):\n",
    "    return( f1(t+0.5*h,v+(k1v(f1,f2,t,v,x,h)*0.5*h),x+(k1x(f1,f2,t,v,x,h)*0.5*h)) )\n",
    "\n",
    "def k3v(f1,f2,t,v,x,h):\n",
    "    return( f1(t+0.5*h,v+(k2v(f1,f2,t,v,x,h)*0.5*h),x+(k2x(f1,f2,t,v,x,h)*0.5*h)) )\n",
    "\n",
    "def k4v(f1,f2,t,v,x,h):\n",
    "    return( f1(t+h,v+(k3v(f1,f2,t,v,x,h)*h),x+(k3x(f1,f2,t,v,x,h)*h)) )\n",
    "\n",
    "\n",
    "def k1x(f1,f2,t,v,x,h):\n",
    "    return( f2(t,v,x) )\n",
    "\n",
    "def k2x(f1,f2,t,v,x,h):\n",
    "    return( f2(t+0.5*h,v+(k1v(f1,f2,t,v,x,h)*0.5*h),x+(k1x(f1,f2,t,v,x,h)*0.5*h)) )\n",
    "\n",
    "def k3x(f1,f2,t,v,x,h):\n",
    "    return( f2(t+0.5*h,v+(k2v(f1,f2,t,v,x,h)*0.5*h),x+(k2x(f1,f2,t,v,x,h)*0.5*h)) )\n",
    "\n",
    "def k4x(f1,f2,t,v,x,h):\n",
    "    return( f2(t+h,v+(k3v(f1,f2,t,v,x,h)*h),x+(k3x(f1,f2,t,v,x,h)*h)) )\n",
    "\n",
    "\n"
   ]
  },
  {
   "cell_type": "code",
   "execution_count": 12,
   "metadata": {},
   "outputs": [],
   "source": [
    "def phiv(f1,f2,t,v,x,h):\n",
    "    return(k1v(f1,f2,t,v,x,h)+2*k2v(f1,f2,t,v,x,h)+2*k3v(f1,f2,t,v,x,h)+k4v(f1,f2,t,v,x,h))*(1/6)"
   ]
  },
  {
   "cell_type": "code",
   "execution_count": 13,
   "metadata": {},
   "outputs": [],
   "source": [
    "def phix(f1,f2,t,v,x,h):\n",
    "    return(k1x(f1,f2,t,v,x,h)+2*k2x(f1,f2,t,v,x,h)+2*k3x(f1,f2,t,v,x,h)+k4x(f1,f2,t,v,x,h))*(1/6)"
   ]
  },
  {
   "cell_type": "code",
   "execution_count": 14,
   "metadata": {},
   "outputs": [],
   "source": [
    "# Initial Conditions\n",
    "a1=1\n",
    "a2=0\n",
    "v=[]\n",
    "v.append(5)\n",
    "x=[]\n",
    "x.append(0)\n",
    "t=[]\n",
    "t.append(0)\n",
    "L=1\n",
    "N=10\n",
    "h=L/N"
   ]
  },
  {
   "cell_type": "code",
   "execution_count": 15,
   "metadata": {},
   "outputs": [],
   "source": [
    "for i in range(0,4):\n",
    "   p= v[-1]+h*phiv(f1,f2,t[-1],v[-1],x[-1],h)\n",
    "   q= x[-1]+h*phix(f1,f2,t[-1],v[-1],x[-1],h)\n",
    "   v.append(p)\n",
    "   x.append(q)\n",
    "   t.append(t[-1]+h)\n",
    "\n"
   ]
  },
  {
   "cell_type": "code",
   "execution_count": 16,
   "metadata": {},
   "outputs": [
    {
     "data": {
      "text/plain": [
       "([0, 0.1, 0.2, 0.30000000000000004, 0.4],\n",
       " [0,\n",
       "  0.4917532013581825,\n",
       "  0.9375095099385422,\n",
       "  1.3041760133109894,\n",
       "  1.5754158540296912],\n",
       " [5,\n",
       "  4.756975149724341,\n",
       "  4.1028334611363935,\n",
       "  3.2041489838105255,\n",
       "  2.2147603591784883])"
      ]
     },
     "execution_count": 16,
     "metadata": {},
     "output_type": "execute_result"
    }
   ],
   "source": [
    "t,x,v"
   ]
  },
  {
   "cell_type": "code",
   "execution_count": 17,
   "metadata": {},
   "outputs": [],
   "source": [
    "# Initial Conditions\n",
    "a1=1\n",
    "a2=0\n",
    "v=[]\n",
    "v.append(a2)\n",
    "x=[]\n",
    "x.append(a1)\n",
    "t=[]\n",
    "t.append(0)\n",
    "L=1\n",
    "N=10\n",
    "h=L/N"
   ]
  },
  {
   "cell_type": "code",
   "execution_count": 19,
   "metadata": {},
   "outputs": [],
   "source": [
    "for i in range(0,10):\n",
    "   p= v[-1]+h*phiv(f1,f2,t[-1],v[-1],x[-1],h)\n",
    "   q= x[-1]+h*phix(f1,f2,t[-1],v[-1],x[-1],h)\n",
    "   v.append(p)\n",
    "   x.append(q)\n",
    "   t.append(t[-1]+h)"
   ]
  },
  {
   "cell_type": "code",
   "execution_count": 20,
   "metadata": {},
   "outputs": [
    {
     "data": {
      "text/plain": [
       "([0,\n",
       "  0.1,\n",
       "  0.2,\n",
       "  0.30000000000000004,\n",
       "  0.4,\n",
       "  0.5,\n",
       "  0.6,\n",
       "  0.7,\n",
       "  0.7999999999999999,\n",
       "  0.8999999999999999,\n",
       "  0.9999999999999999],\n",
       " [1,\n",
       "  0.9850458020833334,\n",
       "  0.9407278764933794,\n",
       "  0.8686451889620006,\n",
       "  0.7713524808086407,\n",
       "  0.6522038120814281,\n",
       "  0.5151502596899081,\n",
       "  0.36450649499427495,\n",
       "  0.20470255653369315,\n",
       "  0.04003717725393929,\n",
       "  -0.1255524329670817],\n",
       " [0,\n",
       "  -0.2981704145833334,\n",
       "  -0.5855120829431351,\n",
       "  -0.8518687268554601,\n",
       "  -1.0883772900568676,\n",
       "  -1.2879910381928332,\n",
       "  -1.4458683096425022,\n",
       "  -1.5596035201600764,\n",
       "  -1.6292921887472798,\n",
       "  -1.6574372666995505,\n",
       "  -1.6487183367295757])"
      ]
     },
     "execution_count": 20,
     "metadata": {},
     "output_type": "execute_result"
    }
   ],
   "source": [
    "t,x,v"
   ]
  },
  {
   "cell_type": "code",
   "execution_count": null,
   "metadata": {},
   "outputs": [],
   "source": []
  },
  {
   "cell_type": "code",
   "execution_count": null,
   "metadata": {},
   "outputs": [],
   "source": []
  },
  {
   "cell_type": "code",
   "execution_count": null,
   "metadata": {},
   "outputs": [],
   "source": []
  },
  {
   "cell_type": "code",
   "execution_count": null,
   "metadata": {},
   "outputs": [],
   "source": []
  },
  {
   "cell_type": "code",
   "execution_count": null,
   "metadata": {},
   "outputs": [],
   "source": []
  },
  {
   "cell_type": "code",
   "execution_count": 29,
   "metadata": {},
   "outputs": [],
   "source": [
    "a1=1\n",
    "a2=0.05\n",
    "v=[]\n",
    "v.append(a2)\n",
    "x=[]\n",
    "x.append(a1)\n",
    "t=[]\n",
    "t.append(0)\n",
    "L=1\n",
    "N=1000\n",
    "h=L/N"
   ]
  },
  {
   "cell_type": "code",
   "execution_count": 30,
   "metadata": {},
   "outputs": [],
   "source": [
    "for i in range(0,500):\n",
    "   p= v[-1]+h*phiv(f1,f2,t[-1],v[-1],x[-1],h)\n",
    "   q= x[-1]+h*phix(f1,f2,t[-1],v[-1],x[-1],h)\n",
    "   v.append(p)\n",
    "   x.append(q)\n",
    "   t.append(t[-1]+h)\n",
    "\n"
   ]
  },
  {
   "cell_type": "code",
   "execution_count": 34,
   "metadata": {},
   "outputs": [
    {
     "data": {
      "text/plain": [
       "(0.5000000000000003, -0.6510328707132885, -3.4857447378629627)"
      ]
     },
     "execution_count": 34,
     "metadata": {},
     "output_type": "execute_result"
    }
   ],
   "source": [
    "t[-1],x[-1],v[-1]"
   ]
  },
  {
   "cell_type": "code",
   "execution_count": 35,
   "metadata": {},
   "outputs": [
    {
     "data": {
      "text/plain": [
       "(1.0000000000000007, -0.17584095178695727, 4.4569004724720545)"
      ]
     },
     "execution_count": 35,
     "metadata": {},
     "output_type": "execute_result"
    }
   ],
   "source": [
    "a1=1\n",
    "a2=0.05\n",
    "v=[]\n",
    "v.append(a2)\n",
    "x=[]\n",
    "x.append(a1)\n",
    "t=[]\n",
    "t.append(0)\n",
    "L=1\n",
    "N=1000\n",
    "h=L/N\n",
    "\n",
    "for i in range(0,1000):\n",
    "        p=(v[-1]+h*phiv(f1,f2,t[-1],v[-1],x[-1],h))\n",
    "        q=(x[-1]+h*phix(f1,f2,t[-1],v[-1],x[-1],h))\n",
    "        v.append(p)\n",
    "        x.append(q)\n",
    "        t.append(t[-1]+h)\n",
    "\n",
    "\n",
    "t[-1],x[-1],v[-1]"
   ]
  },
  {
   "cell_type": "code",
   "execution_count": null,
   "metadata": {},
   "outputs": [],
   "source": []
  }
 ],
 "metadata": {
  "interpreter": {
   "hash": "67924368a3d1bc939f60fa2272677e457ba052a25ded14b90e6c294b1230524a"
  },
  "kernelspec": {
   "display_name": "Python 3.9.0 32-bit",
   "language": "python",
   "name": "python3"
  },
  "language_info": {
   "codemirror_mode": {
    "name": "ipython",
    "version": 3
   },
   "file_extension": ".py",
   "mimetype": "text/x-python",
   "name": "python",
   "nbconvert_exporter": "python",
   "pygments_lexer": "ipython3",
   "version": "3.9.0"
  },
  "orig_nbformat": 4
 },
 "nbformat": 4,
 "nbformat_minor": 2
}
