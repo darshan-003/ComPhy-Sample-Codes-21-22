{
 "cells": [
  {
   "cell_type": "code",
   "execution_count": 11,
   "metadata": {},
   "outputs": [],
   "source": [
    "import numpy as np\n",
    "import matplotlib.pyplot as plt"
   ]
  },
  {
   "cell_type": "code",
   "execution_count": 13,
   "metadata": {},
   "outputs": [],
   "source": [
    "def f2(t,v,x):\n",
    "    return v\n",
    "\n",
    "def f1(t,v,x):\n",
    "    return 2*x +8*t*(9-t)"
   ]
  },
  {
   "cell_type": "code",
   "execution_count": 14,
   "metadata": {},
   "outputs": [],
   "source": [
    "def k1v(f1,f2,t,v,x,h):\n",
    "    return( f1(t,v,x) )\n",
    "\n",
    "def k2v(f1,f2,t,v,x,h):\n",
    "    return( f1(t+0.5*h,v+(k1v(f1,f2,t,v,x,h)*0.5*h),x+(k1x(f1,f2,t,v,x,h)*0.5*h)) )\n",
    "\n",
    "def k3v(f1,f2,t,v,x,h):\n",
    "    return( f1(t+0.5*h,v+(k2v(f1,f2,t,v,x,h)*0.5*h),x+(k2x(f1,f2,t,v,x,h)*0.5*h)) )\n",
    "\n",
    "def k4v(f1,f2,t,v,x,h):\n",
    "    return( f1(t+h,v+(k3v(f1,f2,t,v,x,h)*h),x+(k3x(f1,f2,t,v,x,h)*h)) )\n",
    "\n",
    "\n",
    "def k1x(f1,f2,t,v,x,h):\n",
    "    return( f2(t,v,x) )\n",
    "\n",
    "def k2x(f1,f2,t,v,x,h):\n",
    "    return( f2(t+0.5*h,v+(k1v(f1,f2,t,v,x,h)*0.5*h),x+(k1x(f1,f2,t,v,x,h)*0.5*h)) )\n",
    "\n",
    "def k3x(f1,f2,t,v,x,h):\n",
    "    return( f2(t+0.5*h,v+(k2v(f1,f2,t,v,x,h)*0.5*h),x+(k2x(f1,f2,t,v,x,h)*0.5*h)) )\n",
    "\n",
    "def k4x(f1,f2,t,v,x,h):\n",
    "    return( f2(t+h,v+(k3v(f1,f2,t,v,x,h)*h),x+(k3x(f1,f2,t,v,x,h)*h)) )\n",
    "\n",
    "\n"
   ]
  },
  {
   "cell_type": "code",
   "execution_count": 15,
   "metadata": {},
   "outputs": [],
   "source": [
    "def phiv(f1,f2,t,v,x,h):\n",
    "    return(k1v(f1,f2,t,v,x,h)+2*k2v(f1,f2,t,v,x,h)+2*k3v(f1,f2,t,v,x,h)+k4v(f1,f2,t,v,x,h))*(1/6)"
   ]
  },
  {
   "cell_type": "code",
   "execution_count": 16,
   "metadata": {},
   "outputs": [],
   "source": [
    "def phix(f1,f2,t,v,x,h):\n",
    "    return(k1x(f1,f2,t,v,x,h)+2*k2x(f1,f2,t,v,x,h)+2*k3x(f1,f2,t,v,x,h)+k4x(f1,f2,t,v,x,h))*(1/6)"
   ]
  },
  {
   "cell_type": "code",
   "execution_count": 17,
   "metadata": {},
   "outputs": [],
   "source": [
    "# Initial Conditions\n",
    "\n",
    "v=[]\n",
    "v.append(-20.57142857142857)\n",
    "x=[]\n",
    "x.append(0)\n",
    "t=[]\n",
    "t.append(0)\n",
    "h=3\n",
    "\n",
    "for i in range(0,3):\n",
    "   p= v[-1]+h*phiv(f1,f2,t[-1],v[-1],x[-1],h)\n",
    "   q= x[-1]+h*phix(f1,f2,t[-1],v[-1],x[-1],h)\n",
    "   v.append(p)\n",
    "   x.append(q)\n",
    "   t.append(t[-1]+h)\n"
   ]
  },
  {
   "cell_type": "code",
   "execution_count": 18,
   "metadata": {},
   "outputs": [
    {
     "data": {
      "text/plain": [
       "[0, 23.142857142857167, 4300.714285714286, 180277.07142857145]"
      ]
     },
     "execution_count": 18,
     "metadata": {},
     "output_type": "execute_result"
    }
   ],
   "source": [
    "x"
   ]
  },
  {
   "cell_type": "code",
   "execution_count": null,
   "metadata": {},
   "outputs": [],
   "source": []
  },
  {
   "cell_type": "code",
   "execution_count": null,
   "metadata": {},
   "outputs": [],
   "source": []
  }
 ],
 "metadata": {
  "interpreter": {
   "hash": "67924368a3d1bc939f60fa2272677e457ba052a25ded14b90e6c294b1230524a"
  },
  "kernelspec": {
   "display_name": "Python 3.9.0 32-bit",
   "language": "python",
   "name": "python3"
  },
  "language_info": {
   "codemirror_mode": {
    "name": "ipython",
    "version": 3
   },
   "file_extension": ".py",
   "mimetype": "text/x-python",
   "name": "python",
   "nbconvert_exporter": "python",
   "pygments_lexer": "ipython3",
   "version": "3.9.0"
  },
  "orig_nbformat": 4
 },
 "nbformat": 4,
 "nbformat_minor": 2
}
