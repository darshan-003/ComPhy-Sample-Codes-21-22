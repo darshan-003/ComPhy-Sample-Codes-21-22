{
 "cells": [
  {
   "cell_type": "code",
   "execution_count": 32,
   "metadata": {},
   "outputs": [],
   "source": [
    "import numpy as np\n",
    "import matplotlib.pyplot as plt"
   ]
  },
  {
   "cell_type": "code",
   "execution_count": 33,
   "metadata": {},
   "outputs": [],
   "source": [
    "def f(x,y):\n",
    "    return  1/x"
   ]
  },
  {
   "cell_type": "code",
   "execution_count": 34,
   "metadata": {},
   "outputs": [],
   "source": [
    "#  You have to Estimate the Function in the interval x1 and x2 \n",
    "# Enter The values of x1 and x2\n",
    "# h is the length of subinterval\n",
    "# x0 is the initial condition given i.e y(x0) is y0\n",
    "# n is the number of sub intervals\n",
    "\n",
    "\n",
    "def EulerMethod(x0,y0,x1,x2,n):\n",
    "    y_predict=[]\n",
    "    y_predict.append(y0)\n",
    "    h=abs(x2-x1)/n\n",
    "\n",
    "   \n",
    "\n",
    "\n",
    "    for i in range(0,n):                       #Predict to the right of the given initial value\n",
    "        y_pred=y_predict[-1] + f(x0+(i-1)*h,y_predict[-1])*h\n",
    "        y_predict.append(y_pred)\n",
    "        \n",
    "\n",
    "    \n",
    "    return y_predict\n",
    "\n"
   ]
  },
  {
   "cell_type": "code",
   "execution_count": 41,
   "metadata": {},
   "outputs": [],
   "source": [
    "x0=10\n",
    "y0=1\n",
    "x1=10\n",
    "x2=100\n",
    "n=100"
   ]
  },
  {
   "cell_type": "code",
   "execution_count": 42,
   "metadata": {},
   "outputs": [
    {
     "data": {
      "text/plain": [
       "[<matplotlib.lines.Line2D at 0x6bf93d0>]"
      ]
     },
     "execution_count": 42,
     "metadata": {},
     "output_type": "execute_result"
    },
    {
     "data": {
      "image/png": "[encoded data removed]",
      "text/plain": [
       "<Figure size 432x288 with 1 Axes>"
      ]
     },
     "metadata": {
      "needs_background": "light"
     },
     "output_type": "display_data"
    }
   ],
   "source": [
    "\n",
    "y_predictions=EulerMethod(x0,y0,x1,x2,n)\n",
    "n1=len(y_predictions)\n",
    "x=np.arange(x1,x2,(x2-x1)/n1)\n",
    "plt.plot(x,y_predictions)"
   ]
  },
  {
   "cell_type": "code",
   "execution_count": 45,
   "metadata": {},
   "outputs": [
    {
     "data": {
      "text/plain": [
       "[1,\n",
       " 1.098901098901099,\n",
       " 1.188901098901099,\n",
       " 1.2714699062405486,\n",
       " 1.3477410926812265,\n",
       " 1.41860723441351,\n",
       " 1.4847837050017454,\n",
       " 1.5468526705189867,\n",
       " 1.6052942289605452,\n",
       " 1.6605089528869255,\n",
       " 1.7128345342822744,\n",
       " 1.7625582911883517,\n",
       " 1.8099267122409832,\n",
       " 1.8551528428942496,\n",
       " 1.8984220736634805,\n",
       " 1.9398967280413606,\n",
       " 1.979719736890918,\n",
       " 2.0180176092313435,\n",
       " 2.054902855132983,\n",
       " 2.090475977662627,\n",
       " 2.124827122700795,\n",
       " 2.1580374548041164,\n",
       " 2.1901803119469734,\n",
       " 2.221322180459084,\n",
       " 2.251523522740963,\n",
       " 2.2808394836530153,\n",
       " 2.3093204963112433,\n",
       " 2.337012804003551,\n",
       " 2.3639589117879822,\n",
       " 2.390197978843376,\n",
       " 2.4157661606615575,\n",
       " 2.440696908583995,\n",
       " 2.4650212329083194,\n",
       " 2.488767934755285,\n",
       " 2.5119638110439446,\n",
       " 2.5346338362328615,\n",
       " 2.5568013239175906,\n",
       " 2.5784880709055424,\n",
       " 2.599714485999882,\n",
       " 2.6204997053994203,\n",
       " 2.6408616963496465,\n",
       " 2.660817350451642,\n",
       " 2.6803825678429467,\n",
       " 2.699572333301369,\n",
       " 2.718400785184214,\n",
       " 2.7368812779973557,\n",
       " 2.755026439287678,\n",
       " 2.772848221465896,\n",
       " 2.790357949092355,\n",
       " 2.807566362094267,\n",
       " 2.8244836553273496,\n",
       " 2.841119514846758,\n",
       " 2.8574831512103946,\n",
       " 2.873583330101271,\n",
       " 2.8894284005238062,\n",
       " 2.9050263208011025,\n",
       " 2.9203846825758464,\n",
       " 2.9355107329960144,\n",
       " 2.95041139524767,\n",
       " 2.9650932875804594,\n",
       " 2.9795627409566654,\n",
       " 2.99382581544161,\n",
       " 3.00788831544161,\n",
       " 3.0217558038853696,\n",
       " 3.0354336154355215,\n",
       " 3.048926868808835,\n",
       " 3.0622404782762906,\n",
       " 3.0753791644076776,\n",
       " 3.0883474641194932,\n",
       " 3.101149740079664,\n",
       " 3.1137901895178666,\n",
       " 3.1262728524859664,\n",
       " 3.138601619609254,\n",
       " 3.1507802393656816,\n",
       " 3.162812324927179,\n",
       " 3.174701360594286,\n",
       " 3.1864507078527717,\n",
       " 3.1980636110785783,\n",
       " 3.209543202915313,\n",
       " 3.2208925093465868,\n",
       " 3.2321144544837437,\n",
       " 3.243211865087936,\n",
       " 3.2541874748440334,\n",
       " 3.2650439284025374,\n",
       " 3.275783785204447,\n",
       " 3.286409523102912,\n",
       " 3.296923541794501,\n",
       " 3.3073281660719576,\n",
       " 3.317625648909486,\n",
       " 3.3278181743907997,\n",
       " 3.3379078604894543,\n",
       " 3.34789676171032,\n",
       " 3.35778687160043,\n",
       " 3.367580125136883,\n",
       " 3.377278400998952,\n",
       " 3.3868835237310755,\n",
       " 3.3963972658029573,\n",
       " 3.405821349572591,\n",
       " 3.415157449157653,\n",
       " 3.424407192220346,\n",
       " 3.4335721616704475]"
      ]
     },
     "execution_count": 45,
     "metadata": {},
     "output_type": "execute_result"
    }
   ],
   "source": [
    "y_predictions"
   ]
  },
  {
   "cell_type": "code",
   "execution_count": null,
   "metadata": {},
   "outputs": [],
   "source": []
  },
  {
   "cell_type": "code",
   "execution_count": null,
   "metadata": {},
   "outputs": [],
   "source": []
  },
  {
   "cell_type": "code",
   "execution_count": null,
   "metadata": {},
   "outputs": [],
   "source": []
  }
 ],
 "metadata": {
  "interpreter": {
   "hash": "67924368a3d1bc939f60fa2272677e457ba052a25ded14b90e6c294b1230524a"
  },
  "kernelspec": {
   "display_name": "Python 3.9.0 32-bit",
   "name": "python3"
  },
  "language_info": {
   "codemirror_mode": {
    "name": "ipython",
    "version": 3
   },
   "file_extension": ".py",
   "mimetype": "text/x-python",
   "name": "python",
   "nbconvert_exporter": "python",
   "pygments_lexer": "ipython3",
   "version": "3.9.0"
  },
  "orig_nbformat": 4
 },
 "nbformat": 4,
 "nbformat_minor": 2
}
