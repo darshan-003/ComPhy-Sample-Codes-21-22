{
 "cells": [
  {
   "cell_type": "code",
   "execution_count": 19,
   "metadata": {},
   "outputs": [],
   "source": [
    "import numpy as np\n",
    "import matplotlib.pyplot as plt"
   ]
  },
  {
   "cell_type": "code",
   "execution_count": 20,
   "metadata": {},
   "outputs": [],
   "source": [
    "def f(x,y):\n",
    "    return -2.2067*pow(10,-12)*(y**4 - 81 * 10**8)  #Define the function\n",
    "\n"
   ]
  },
  {
   "cell_type": "code",
   "execution_count": 27,
   "metadata": {},
   "outputs": [],
   "source": [
    "def k1(f,x,y,h):\n",
    "    return f(x,y)\n",
    "\n",
    "\n",
    "def k2(f,x,y,h):\n",
    "    return (f(x+h/2 ,y+k1(f,x,y,h)*h/2))\n",
    "\n",
    "def k3(f,x,y,h):\n",
    "    return (f(x+h/2, y+ k2(f,x,y,h)*h/2))\n",
    "\n",
    "def k4(f,x,y,h):\n",
    "    return( f(x+h, y+ k3(f,x,y,h) * h))\n",
    "\n",
    "\n",
    "# def the value of k1,k2,k3,k4 for the RK4 method\n"
   ]
  },
  {
   "cell_type": "code",
   "execution_count": 28,
   "metadata": {},
   "outputs": [],
   "source": [
    "def phi_RK4(f,x,y,h):\n",
    "    return (k1(f,x,y,h)+2*k2(f,x,y,h)+2*k3(f,x,y,h)+k4(f,x,y,h))/6\n",
    "\n",
    "# Def the value of phi in terms of the k's"
   ]
  },
  {
   "cell_type": "code",
   "execution_count": 25,
   "metadata": {},
   "outputs": [],
   "source": [
    "h=60           #Assume a Step size\n",
    "y0 = 1200       #Initial value \n",
    "\n",
    "x_lowerlimit=0            #Lower limit of x\n",
    "x_upperlimit=480        #Upper limit of x"
   ]
  },
  {
   "cell_type": "code",
   "execution_count": 26,
   "metadata": {},
   "outputs": [],
   "source": [
    "y=[]\n",
    "y.append(y0)\n",
    "\n",
    "x=x_lowerlimit\n",
    "\n",
    "while x<480:\n",
    "    y.append(y[-1] + phi_RK4(f,x,y[-1],h)*h)    #Find the successive y values and append them in a list \n",
    "    x=x+h"
   ]
  },
  {
   "cell_type": "code",
   "execution_count": null,
   "metadata": {},
   "outputs": [],
   "source": []
  },
  {
   "cell_type": "code",
   "execution_count": null,
   "metadata": {},
   "outputs": [],
   "source": []
  }
 ],
 "metadata": {
  "interpreter": {
   "hash": "67924368a3d1bc939f60fa2272677e457ba052a25ded14b90e6c294b1230524a"
  },
  "kernelspec": {
   "display_name": "Python 3.9.0 32-bit",
   "language": "python",
   "name": "python3"
  },
  "language_info": {
   "codemirror_mode": {
    "name": "ipython",
    "version": 3
   },
   "file_extension": ".py",
   "mimetype": "text/x-python",
   "name": "python",
   "nbconvert_exporter": "python",
   "pygments_lexer": "ipython3",
   "version": "3.9.0"
  },
  "orig_nbformat": 4
 },
 "nbformat": 4,
 "nbformat_minor": 2
}
