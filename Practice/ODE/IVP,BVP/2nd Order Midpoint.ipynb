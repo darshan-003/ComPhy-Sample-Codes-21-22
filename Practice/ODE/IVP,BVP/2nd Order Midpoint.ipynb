{
 "cells": [
  {
   "cell_type": "code",
   "execution_count": 34,
   "metadata": {},
   "outputs": [],
   "source": [
    "import numpy as np\n",
    "import matplotlib.pyplot as plt\n",
    "\n",
    "\n",
    "# For The eqns \n",
    "\n",
    "# dv/dt = f1(t,v,x)\n",
    "\n",
    "# dx/dt = f2(t,v,x)"
   ]
  },
  {
   "cell_type": "code",
   "execution_count": 35,
   "metadata": {},
   "outputs": [],
   "source": [
    "# Initial Conditions\n",
    "\n",
    "v=[]\n",
    "v.append(0)\n",
    "x=[]\n",
    "x.append(2)\n",
    "t=[]\n",
    "t.append(0)\n",
    "h=0.00001"
   ]
  },
  {
   "cell_type": "code",
   "execution_count": 36,
   "metadata": {},
   "outputs": [],
   "source": [
    "def f1(t,v,x):\n",
    "    return(20*np.cos(16*t)-2*v-64*x)\n",
    "\n",
    "\n",
    "def f2(t,v,x):\n",
    "    return(v)"
   ]
  },
  {
   "cell_type": "code",
   "execution_count": 37,
   "metadata": {},
   "outputs": [],
   "source": [
    "def k1v(f1,f2,t,v,x,h):\n",
    "    return( f1(t,v,x) )\n",
    "\n",
    "def k2v(f1,f2,t,v,x,h):\n",
    "    return( f1(t+0.5*h,v+(k1v(f1,f2,t,v,x,h)*0.5*h),x+(k1x(f1,f2,t,v,x,h)*0.5*h)) )\n",
    "\n",
    "\n",
    "\n",
    "\n",
    "def k1x(f1,f2,t,v,x,h):\n",
    "    return( f2(t,v,x) )\n",
    "\n",
    "def k2x(f1,f2,t,v,x,h):\n",
    "    return( f2(t+0.5*h,v+(k1v(f1,f2,t,v,x,h)*0.5*h),x+(k1x(f1,f2,t,v,x,h)*0.5*h)) )\n",
    "\n",
    "\n"
   ]
  },
  {
   "cell_type": "code",
   "execution_count": 38,
   "metadata": {},
   "outputs": [],
   "source": [
    "def phiv(f1,f2,t,v,x,h):\n",
    "    return(k1v(f1,f2,t,v,x,h)+k2v(f1,f2,t,v,x,h))*(1/2)"
   ]
  },
  {
   "cell_type": "code",
   "execution_count": 39,
   "metadata": {},
   "outputs": [],
   "source": [
    "def phix(f1,f2,t,v,x,h):\n",
    "    return(k1x(f1,f2,t,v,x,h)+k2x(f1,f2,t,v,x,h))*(1/2)"
   ]
  },
  {
   "cell_type": "code",
   "execution_count": 40,
   "metadata": {},
   "outputs": [],
   "source": [
    "for i in range(0,500000):\n",
    "    v.append(v[-1]+h*phiv(f1,f2,t[-1],v[-1],x[-1],h))\n",
    "    x.append(x[-1]+h*phix(f1,f2,t[-1],v[-1],x[-1],h))\n",
    "    t.append(t[-1]+h)\n",
    "\n"
   ]
  },
  {
   "cell_type": "code",
   "execution_count": 41,
   "metadata": {},
   "outputs": [
    {
     "data": {
      "text/plain": [
       "[<matplotlib.lines.Line2D at 0x1415a430>]"
      ]
     },
     "execution_count": 41,
     "metadata": {},
     "output_type": "execute_result"
    },
    {
     "data": {
      "image/png": "[encoded data removed]",
      "text/plain": [
       "<Figure size 432x288 with 1 Axes>"
      ]
     },
     "metadata": {
      "needs_background": "light"
     },
     "output_type": "display_data"
    }
   ],
   "source": [
    "plt.plot(t,x)"
   ]
  },
  {
   "cell_type": "code",
   "execution_count": 44,
   "metadata": {},
   "outputs": [
    {
     "data": {
      "text/plain": [
       "1.5018411727978564"
      ]
     },
     "execution_count": 44,
     "metadata": {},
     "output_type": "execute_result"
    }
   ],
   "source": [
    "x[10000]"
   ]
  },
  {
   "cell_type": "code",
   "execution_count": null,
   "metadata": {},
   "outputs": [],
   "source": []
  }
 ],
 "metadata": {
  "interpreter": {
   "hash": "67924368a3d1bc939f60fa2272677e457ba052a25ded14b90e6c294b1230524a"
  },
  "kernelspec": {
   "display_name": "Python 3.9.0 32-bit",
   "language": "python",
   "name": "python3"
  },
  "language_info": {
   "codemirror_mode": {
    "name": "ipython",
    "version": 3
   },
   "file_extension": ".py",
   "mimetype": "text/x-python",
   "name": "python",
   "nbconvert_exporter": "python",
   "pygments_lexer": "ipython3",
   "version": "3.9.0"
  },
  "orig_nbformat": 4
 },
 "nbformat": 4,
 "nbformat_minor": 2
}
