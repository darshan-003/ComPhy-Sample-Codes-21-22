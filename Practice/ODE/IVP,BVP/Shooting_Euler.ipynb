{
 "cells": [
  {
   "cell_type": "code",
   "execution_count": 49,
   "metadata": {},
   "outputs": [],
   "source": [
    "import numpy as np\n",
    "import matplotlib.pyplot as plt\n",
    "\n",
    "\n",
    "# For The eqns \n",
    "\n",
    "# dv/dt = f1(t,v,x)\n",
    "\n",
    "# dx/dt = f2(t,v,x)"
   ]
  },
  {
   "cell_type": "code",
   "execution_count": 50,
   "metadata": {},
   "outputs": [],
   "source": [
    "def f2(t,v,x):\n",
    "    return v\n",
    "\n",
    "def f1(t,v,x):\n",
    "    return 2*x +8*t*(9-t)"
   ]
  },
  {
   "cell_type": "code",
   "execution_count": 51,
   "metadata": {},
   "outputs": [],
   "source": [
    "def k1v(f1,f2,t,v,x,h):\n",
    "    return( f1(t,v,x) )\n",
    "\n",
    "\n",
    "def k1x(f1,f2,t,v,x,h):\n",
    "    return( f2(t,v,x) )\n",
    "\n",
    "\n",
    "\n",
    "\n"
   ]
  },
  {
   "cell_type": "code",
   "execution_count": 52,
   "metadata": {},
   "outputs": [],
   "source": [
    "def phiv(f1,f2,t,v,x,h):\n",
    "    return(k1v(f1,f2,t,v,x,h))"
   ]
  },
  {
   "cell_type": "code",
   "execution_count": 53,
   "metadata": {},
   "outputs": [],
   "source": [
    "def phix(f1,f2,t,v,x,h):\n",
    "    return(k1x(f1,f2,t,v,x,h))"
   ]
  },
  {
   "cell_type": "code",
   "execution_count": 55,
   "metadata": {},
   "outputs": [],
   "source": [
    "# Initial Conditions\n",
    "\n",
    "def F(guess):\n",
    "    v=[]\n",
    "    v.append(guess)\n",
    "    x=[]\n",
    "    x.append(0)\n",
    "    t=[]\n",
    "    t.append(0)\n",
    "    h=3\n",
    "    x_final=0\n",
    "\n",
    "\n",
    "\n",
    "    for i in range(0,3):\n",
    "\n",
    "        p=v[-1]+h*phiv(f1,f2,t[-1],v[-1],x[-1],h)\n",
    "        q=x[-1]+h*phix(f1,f2,t[-1],v[-1],x[-1],h)\n",
    "        v.append(p)\n",
    "        x.append(q)\n",
    "        t.append(t[-1]+h)\n",
    "\n",
    "    return x[-1]-x_final\n",
    "\n"
   ]
  },
  {
   "cell_type": "code",
   "execution_count": null,
   "metadata": {},
   "outputs": [],
   "source": []
  },
  {
   "cell_type": "code",
   "execution_count": 61,
   "metadata": {},
   "outputs": [],
   "source": [
    "#Secant Method\n",
    "\n",
    "def find_derivative(g1,g2):\n",
    "    der=[]\n",
    "    guesses=[]\n",
    "    der.append(F(g1))\n",
    "    der.append(F(g2))\n",
    "    guesses.append(g1)\n",
    "    guesses.append(g2)\n",
    "\n",
    "\n",
    "    for i in range(0,3):\n",
    "        p= guesses[-1] - (der[-1])*(guesses[-2]-guesses[-1])/(der[-2]-der[-1])\n",
    "        guesses.append(p)\n",
    "        der.append(F(p))\n",
    "\n",
    "    return guesses[-1]\n"
   ]
  },
  {
   "cell_type": "code",
   "execution_count": 62,
   "metadata": {},
   "outputs": [
    {
     "data": {
      "text/plain": [
       "-20.57142857142857"
      ]
     },
     "execution_count": 62,
     "metadata": {},
     "output_type": "execute_result"
    }
   ],
   "source": [
    "find_derivative(4,0)"
   ]
  },
  {
   "cell_type": "code",
   "execution_count": null,
   "metadata": {},
   "outputs": [],
   "source": []
  }
 ],
 "metadata": {
  "interpreter": {
   "hash": "67924368a3d1bc939f60fa2272677e457ba052a25ded14b90e6c294b1230524a"
  },
  "kernelspec": {
   "display_name": "Python 3.9.0 32-bit",
   "language": "python",
   "name": "python3"
  },
  "language_info": {
   "codemirror_mode": {
    "name": "ipython",
    "version": 3
   },
   "file_extension": ".py",
   "mimetype": "text/x-python",
   "name": "python",
   "nbconvert_exporter": "python",
   "pygments_lexer": "ipython3",
   "version": "3.9.0"
  },
  "orig_nbformat": 4
 },
 "nbformat": 4,
 "nbformat_minor": 2
}
