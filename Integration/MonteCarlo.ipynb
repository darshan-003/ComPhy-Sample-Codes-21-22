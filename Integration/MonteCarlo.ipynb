{
 "cells": [
  {
   "cell_type": "code",
   "execution_count": 29,
   "metadata": {},
   "outputs": [],
   "source": [
    "import numpy as np\n",
    "import matplotlib.pyplot as plt"
   ]
  },
  {
   "cell_type": "code",
   "execution_count": 30,
   "metadata": {},
   "outputs": [],
   "source": [
    "def f(x):\n",
    "    return np.exp(x)"
   ]
  },
  {
   "cell_type": "code",
   "execution_count": 77,
   "metadata": {},
   "outputs": [],
   "source": [
    "def MontecarloMethod(a,b,n):\n",
    "    count=0\n",
    "    fmax=max(f(a),f(b))\n",
    "    \n",
    "    for i in range(0,n):\n",
    "        zhi=np.random.randint(0,10000000)/10000000\n",
    "       \n",
    "        xi=a+(b-a)*zhi\n",
    "        zhi=np.random.randint(0,10000000)/10000000\n",
    "        yi=fmax*zhi\n",
    "\n",
    "        \n",
    "        if yi<f(xi):\n",
    "            count=count+1\n",
    "    \n",
    "\n",
    "    return (count)/n *(b-a)* fmax\n",
    "\n",
    "        \n",
    "\n",
    "\n"
   ]
  },
  {
   "cell_type": "code",
   "execution_count": 78,
   "metadata": {},
   "outputs": [],
   "source": [
    "def MontecarloAccuracy(a,b,n,m):\n",
    "    if abs(MontecarloMethod(a,b,n*2)-MontecarloMethod(a,b,n))/MontecarloMethod(a,b,n*2) < 0.5*0.01*pow(10,2-m):\n",
    "        return MontecarloMethod(a,b,n*2)\n",
    "\n",
    "    else:\n",
    "        return MontecarloAccuracy(a,b,n*2,m)"
   ]
  },
  {
   "cell_type": "code",
   "execution_count": 79,
   "metadata": {},
   "outputs": [],
   "source": [
    "def ModifiedMonteCarlo(a,b,n):\n",
    "    sum=0\n",
    "    for i in range(0,n):\n",
    "       xi=a+(b-a)*np.random.randint(0,100000)/100000\n",
    "       sum+=f(xi)\n",
    "        \n",
    "\n",
    "   \n",
    "    return (b-a)*sum/n"
   ]
  },
  {
   "cell_type": "code",
   "execution_count": 82,
   "metadata": {},
   "outputs": [
    {
     "data": {
      "text/plain": [
       "51.82625069943031"
      ]
     },
     "execution_count": 82,
     "metadata": {},
     "output_type": "execute_result"
    }
   ],
   "source": [
    "ModifiedMonteCarlo(1,4,10000)"
   ]
  },
  {
   "cell_type": "code",
   "execution_count": 83,
   "metadata": {},
   "outputs": [
    {
     "data": {
      "text/plain": [
       "52.627156816947725"
      ]
     },
     "execution_count": 83,
     "metadata": {},
     "output_type": "execute_result"
    }
   ],
   "source": [
    "MontecarloMethod(1,4,10000)"
   ]
  },
  {
   "cell_type": "code",
   "execution_count": null,
   "metadata": {},
   "outputs": [],
   "source": []
  },
  {
   "cell_type": "code",
   "execution_count": null,
   "metadata": {},
   "outputs": [],
   "source": []
  },
  {
   "cell_type": "code",
   "execution_count": null,
   "metadata": {},
   "outputs": [],
   "source": []
  }
 ],
 "metadata": {
  "interpreter": {
   "hash": "67924368a3d1bc939f60fa2272677e457ba052a25ded14b90e6c294b1230524a"
  },
  "kernelspec": {
   "display_name": "Python 3.9.0 32-bit",
   "name": "python3"
  },
  "language_info": {
   "codemirror_mode": {
    "name": "ipython",
    "version": 3
   },
   "file_extension": ".py",
   "mimetype": "text/x-python",
   "name": "python",
   "nbconvert_exporter": "python",
   "pygments_lexer": "ipython3",
   "version": "3.9.0"
  },
  "orig_nbformat": 4
 },
 "nbformat": 4,
 "nbformat_minor": 2
}
