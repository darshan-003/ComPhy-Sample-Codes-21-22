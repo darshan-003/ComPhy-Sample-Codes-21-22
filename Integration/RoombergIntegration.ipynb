{
 "cells": [
  {
   "cell_type": "code",
   "execution_count": 7,
   "metadata": {},
   "outputs": [],
   "source": [
    "import numpy as np\n",
    "import matplotlib.pyplot as plt"
   ]
  },
  {
   "cell_type": "code",
   "execution_count": 24,
   "metadata": {},
   "outputs": [],
   "source": [
    "def f(x):\n",
    "    return (np.sin(x))**2"
   ]
  },
  {
   "cell_type": "code",
   "execution_count": 9,
   "metadata": {},
   "outputs": [],
   "source": [
    "def MultipleTrap(a,b,n):\n",
    "    h=(b-a)/n\n",
    "    sumpoints=0\n",
    "    for i in range(1,n):\n",
    "        sumpoints+=f(a+i*h)\n",
    "\n",
    "    return (h/2)*(f(a)+f(b)+2*sumpoints)"
   ]
  },
  {
   "cell_type": "code",
   "execution_count": 39,
   "metadata": {},
   "outputs": [],
   "source": [
    "def roomberg(a,b,n,row):\n",
    "    Mat=np.zeros([row,row])\n",
    "    Mat+=0.0\n",
    "\n",
    "    \n",
    "    for i in range(0,row):\n",
    "        Mat[i][0]=MultipleTrap(a,b,n)\n",
    "        n=n*2\n",
    "\n",
    "    \n",
    "    \n",
    "    for q in range(1,row):\n",
    "        for p in range(0,row-q):\n",
    "            Mat[p][q]= (pow(4,q)*Mat[p+1][q-1]-Mat[p][q-1])/( pow(4,q)-1)\n",
    "\n",
    "\n",
    "\n",
    "    return Mat\n",
    "    \n",
    "\n",
    "\n",
    "\n"
   ]
  },
  {
   "cell_type": "code",
   "execution_count": 44,
   "metadata": {},
   "outputs": [],
   "source": [
    "def checkCorrectness(x):\n",
    "    r=abs((x[0][1]-x[0][0])/(x[0][2]-x[0][1]))\n",
    "    if r>3.5:\n",
    "        return \"Roomberg Converging Quickly, No Additional Change of Variables Reqd\"\n",
    "    else:\n",
    "        return \"Roomberg not converging quickly \""
   ]
  },
  {
   "cell_type": "code",
   "execution_count": 46,
   "metadata": {},
   "outputs": [
    {
     "data": {
      "text/plain": [
       "'Roomberg Converging Quickly, No Additional Change of Variables Reqd'"
      ]
     },
     "execution_count": 46,
     "metadata": {},
     "output_type": "execute_result"
    }
   ],
   "source": [
    "x=roomberg(0,np.pi,1,8)\n",
    "checkCorrectness(x)"
   ]
  },
  {
   "cell_type": "code",
   "execution_count": 49,
   "metadata": {},
   "outputs": [
    {
     "data": {
      "text/plain": [
       "1.5707963267948963"
      ]
     },
     "execution_count": 49,
     "metadata": {},
     "output_type": "execute_result"
    }
   ],
   "source": [
    "x[0][7]"
   ]
  },
  {
   "cell_type": "code",
   "execution_count": null,
   "metadata": {},
   "outputs": [],
   "source": []
  },
  {
   "cell_type": "code",
   "execution_count": null,
   "metadata": {},
   "outputs": [],
   "source": []
  }
 ],
 "metadata": {
  "interpreter": {
   "hash": "67924368a3d1bc939f60fa2272677e457ba052a25ded14b90e6c294b1230524a"
  },
  "kernelspec": {
   "display_name": "Python 3.9.0 32-bit",
   "name": "python3"
  },
  "language_info": {
   "codemirror_mode": {
    "name": "ipython",
    "version": 3
   },
   "file_extension": ".py",
   "mimetype": "text/x-python",
   "name": "python",
   "nbconvert_exporter": "python",
   "pygments_lexer": "ipython3",
   "version": "3.9.0"
  },
  "orig_nbformat": 4
 },
 "nbformat": 4,
 "nbformat_minor": 2
}
